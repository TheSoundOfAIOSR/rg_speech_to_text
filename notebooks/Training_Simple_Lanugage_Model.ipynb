{
  "nbformat": 4,
  "nbformat_minor": 0,
  "metadata": {
    "colab": {
      "name": "Training Simple Lanugage Model.ipynb",
      "provenance": [],
      "collapsed_sections": []
    },
    "kernelspec": {
      "name": "python3",
      "display_name": "Python 3"
    },
    "language_info": {
      "name": "python"
    },
    "widgets": {
      "application/vnd.jupyter.widget-state+json": {
        "0677f310a8104790b2f4545d1bece7b0": {
          "model_module": "@jupyter-widgets/controls",
          "model_name": "HBoxModel",
          "model_module_version": "1.5.0",
          "state": {
            "_view_name": "HBoxView",
            "_dom_classes": [],
            "_model_name": "HBoxModel",
            "_view_module": "@jupyter-widgets/controls",
            "_model_module_version": "1.5.0",
            "_view_count": null,
            "_view_module_version": "1.5.0",
            "box_style": "",
            "layout": "IPY_MODEL_5cb0a81006e14c4eba6da4cb4b9bf14b",
            "_model_module": "@jupyter-widgets/controls",
            "children": [
              "IPY_MODEL_0cd3f576c0c2445f9817c5b56a87b900",
              "IPY_MODEL_4f066cb8912e40108de0c8d0d5667b09",
              "IPY_MODEL_35e18b46304a40e696ea98c7e05d6c94"
            ]
          }
        },
        "5cb0a81006e14c4eba6da4cb4b9bf14b": {
          "model_module": "@jupyter-widgets/base",
          "model_name": "LayoutModel",
          "model_module_version": "1.2.0",
          "state": {
            "_view_name": "LayoutView",
            "grid_template_rows": null,
            "right": null,
            "justify_content": null,
            "_view_module": "@jupyter-widgets/base",
            "overflow": null,
            "_model_module_version": "1.2.0",
            "_view_count": null,
            "flex_flow": null,
            "width": null,
            "min_width": null,
            "border": null,
            "align_items": null,
            "bottom": null,
            "_model_module": "@jupyter-widgets/base",
            "top": null,
            "grid_column": null,
            "overflow_y": null,
            "overflow_x": null,
            "grid_auto_flow": null,
            "grid_area": null,
            "grid_template_columns": null,
            "flex": null,
            "_model_name": "LayoutModel",
            "justify_items": null,
            "grid_row": null,
            "max_height": null,
            "align_content": null,
            "visibility": null,
            "align_self": null,
            "height": null,
            "min_height": null,
            "padding": null,
            "grid_auto_rows": null,
            "grid_gap": null,
            "max_width": null,
            "order": null,
            "_view_module_version": "1.2.0",
            "grid_template_areas": null,
            "object_position": null,
            "object_fit": null,
            "grid_auto_columns": null,
            "margin": null,
            "display": null,
            "left": null
          }
        },
        "0cd3f576c0c2445f9817c5b56a87b900": {
          "model_module": "@jupyter-widgets/controls",
          "model_name": "HTMLModel",
          "model_module_version": "1.5.0",
          "state": {
            "_view_name": "HTMLView",
            "style": "IPY_MODEL_54b399d1ad7747088cc4a73837b87c60",
            "_dom_classes": [],
            "description": "",
            "_model_name": "HTMLModel",
            "placeholder": "​",
            "_view_module": "@jupyter-widgets/controls",
            "_model_module_version": "1.5.0",
            "value": "  0%",
            "_view_count": null,
            "_view_module_version": "1.5.0",
            "description_tooltip": null,
            "_model_module": "@jupyter-widgets/controls",
            "layout": "IPY_MODEL_e2d00fc27634452383943b40e131f36d"
          }
        },
        "4f066cb8912e40108de0c8d0d5667b09": {
          "model_module": "@jupyter-widgets/controls",
          "model_name": "FloatProgressModel",
          "model_module_version": "1.5.0",
          "state": {
            "_view_name": "ProgressView",
            "style": "IPY_MODEL_b8da8be70fb342b0ae900853af0bb7d1",
            "_dom_classes": [],
            "description": "",
            "_model_name": "FloatProgressModel",
            "bar_style": "danger",
            "max": 5824596,
            "_view_module": "@jupyter-widgets/controls",
            "_model_module_version": "1.5.0",
            "value": 999,
            "_view_count": null,
            "_view_module_version": "1.5.0",
            "orientation": "horizontal",
            "min": 0,
            "description_tooltip": null,
            "_model_module": "@jupyter-widgets/controls",
            "layout": "IPY_MODEL_3321512e63f9446f8d2d8d57d7586607"
          }
        },
        "35e18b46304a40e696ea98c7e05d6c94": {
          "model_module": "@jupyter-widgets/controls",
          "model_name": "HTMLModel",
          "model_module_version": "1.5.0",
          "state": {
            "_view_name": "HTMLView",
            "style": "IPY_MODEL_ec1edc03d12241ba96e467f120e46ac0",
            "_dom_classes": [],
            "description": "",
            "_model_name": "HTMLModel",
            "placeholder": "​",
            "_view_module": "@jupyter-widgets/controls",
            "_model_module_version": "1.5.0",
            "value": " 999/5824596 [00:01&lt;36:25, 2665.15it/s]",
            "_view_count": null,
            "_view_module_version": "1.5.0",
            "description_tooltip": null,
            "_model_module": "@jupyter-widgets/controls",
            "layout": "IPY_MODEL_030880aa5a054d788231490e0f4a7e78"
          }
        },
        "54b399d1ad7747088cc4a73837b87c60": {
          "model_module": "@jupyter-widgets/controls",
          "model_name": "DescriptionStyleModel",
          "model_module_version": "1.5.0",
          "state": {
            "_view_name": "StyleView",
            "_model_name": "DescriptionStyleModel",
            "description_width": "",
            "_view_module": "@jupyter-widgets/base",
            "_model_module_version": "1.5.0",
            "_view_count": null,
            "_view_module_version": "1.2.0",
            "_model_module": "@jupyter-widgets/controls"
          }
        },
        "e2d00fc27634452383943b40e131f36d": {
          "model_module": "@jupyter-widgets/base",
          "model_name": "LayoutModel",
          "model_module_version": "1.2.0",
          "state": {
            "_view_name": "LayoutView",
            "grid_template_rows": null,
            "right": null,
            "justify_content": null,
            "_view_module": "@jupyter-widgets/base",
            "overflow": null,
            "_model_module_version": "1.2.0",
            "_view_count": null,
            "flex_flow": null,
            "width": null,
            "min_width": null,
            "border": null,
            "align_items": null,
            "bottom": null,
            "_model_module": "@jupyter-widgets/base",
            "top": null,
            "grid_column": null,
            "overflow_y": null,
            "overflow_x": null,
            "grid_auto_flow": null,
            "grid_area": null,
            "grid_template_columns": null,
            "flex": null,
            "_model_name": "LayoutModel",
            "justify_items": null,
            "grid_row": null,
            "max_height": null,
            "align_content": null,
            "visibility": null,
            "align_self": null,
            "height": null,
            "min_height": null,
            "padding": null,
            "grid_auto_rows": null,
            "grid_gap": null,
            "max_width": null,
            "order": null,
            "_view_module_version": "1.2.0",
            "grid_template_areas": null,
            "object_position": null,
            "object_fit": null,
            "grid_auto_columns": null,
            "margin": null,
            "display": null,
            "left": null
          }
        },
        "b8da8be70fb342b0ae900853af0bb7d1": {
          "model_module": "@jupyter-widgets/controls",
          "model_name": "ProgressStyleModel",
          "model_module_version": "1.5.0",
          "state": {
            "_view_name": "StyleView",
            "_model_name": "ProgressStyleModel",
            "description_width": "",
            "_view_module": "@jupyter-widgets/base",
            "_model_module_version": "1.5.0",
            "_view_count": null,
            "_view_module_version": "1.2.0",
            "bar_color": null,
            "_model_module": "@jupyter-widgets/controls"
          }
        },
        "3321512e63f9446f8d2d8d57d7586607": {
          "model_module": "@jupyter-widgets/base",
          "model_name": "LayoutModel",
          "model_module_version": "1.2.0",
          "state": {
            "_view_name": "LayoutView",
            "grid_template_rows": null,
            "right": null,
            "justify_content": null,
            "_view_module": "@jupyter-widgets/base",
            "overflow": null,
            "_model_module_version": "1.2.0",
            "_view_count": null,
            "flex_flow": null,
            "width": null,
            "min_width": null,
            "border": null,
            "align_items": null,
            "bottom": null,
            "_model_module": "@jupyter-widgets/base",
            "top": null,
            "grid_column": null,
            "overflow_y": null,
            "overflow_x": null,
            "grid_auto_flow": null,
            "grid_area": null,
            "grid_template_columns": null,
            "flex": null,
            "_model_name": "LayoutModel",
            "justify_items": null,
            "grid_row": null,
            "max_height": null,
            "align_content": null,
            "visibility": null,
            "align_self": null,
            "height": null,
            "min_height": null,
            "padding": null,
            "grid_auto_rows": null,
            "grid_gap": null,
            "max_width": null,
            "order": null,
            "_view_module_version": "1.2.0",
            "grid_template_areas": null,
            "object_position": null,
            "object_fit": null,
            "grid_auto_columns": null,
            "margin": null,
            "display": null,
            "left": null
          }
        },
        "ec1edc03d12241ba96e467f120e46ac0": {
          "model_module": "@jupyter-widgets/controls",
          "model_name": "DescriptionStyleModel",
          "model_module_version": "1.5.0",
          "state": {
            "_view_name": "StyleView",
            "_model_name": "DescriptionStyleModel",
            "description_width": "",
            "_view_module": "@jupyter-widgets/base",
            "_model_module_version": "1.5.0",
            "_view_count": null,
            "_view_module_version": "1.2.0",
            "_model_module": "@jupyter-widgets/controls"
          }
        },
        "030880aa5a054d788231490e0f4a7e78": {
          "model_module": "@jupyter-widgets/base",
          "model_name": "LayoutModel",
          "model_module_version": "1.2.0",
          "state": {
            "_view_name": "LayoutView",
            "grid_template_rows": null,
            "right": null,
            "justify_content": null,
            "_view_module": "@jupyter-widgets/base",
            "overflow": null,
            "_model_module_version": "1.2.0",
            "_view_count": null,
            "flex_flow": null,
            "width": null,
            "min_width": null,
            "border": null,
            "align_items": null,
            "bottom": null,
            "_model_module": "@jupyter-widgets/base",
            "top": null,
            "grid_column": null,
            "overflow_y": null,
            "overflow_x": null,
            "grid_auto_flow": null,
            "grid_area": null,
            "grid_template_columns": null,
            "flex": null,
            "_model_name": "LayoutModel",
            "justify_items": null,
            "grid_row": null,
            "max_height": null,
            "align_content": null,
            "visibility": null,
            "align_self": null,
            "height": null,
            "min_height": null,
            "padding": null,
            "grid_auto_rows": null,
            "grid_gap": null,
            "max_width": null,
            "order": null,
            "_view_module_version": "1.2.0",
            "grid_template_areas": null,
            "object_position": null,
            "object_fit": null,
            "grid_auto_columns": null,
            "margin": null,
            "display": null,
            "left": null
          }
        }
      }
    }
  },
  "cells": [
    {
      "cell_type": "markdown",
      "metadata": {
        "id": "F3MEfwY-PRn1"
      },
      "source": [
        "## Simple Language Model Training with wikipedia data"
      ]
    },
    {
      "cell_type": "code",
      "metadata": {
        "id": "FkkJxWk89_kM"
      },
      "source": [
        "import os\n",
        "import pickle\n",
        "import tensorflow as tf\n",
        "import tensorflow_datasets as tfds\n",
        "import numpy as np\n",
        "from tqdm.auto import tqdm"
      ],
      "execution_count": 21,
      "outputs": []
    },
    {
      "cell_type": "code",
      "metadata": {
        "id": "wJmMm4doOjxM"
      },
      "source": [
        "class LanguageModel:\n",
        "    \"\"\"Simple character-level language model\"\"\"\n",
        "\n",
        "    def __init__(self, chars: list) -> None:\n",
        "        self._unigram = {c: 0 for c in chars}\n",
        "        self._bigram = {c: {d: 0 for d in chars} for c in chars}\n",
        "        self.chars = chars\n",
        "\n",
        "    def get_char_unigram(self, c: str) -> float:\n",
        "        \"\"\"Probability of character c.\"\"\"\n",
        "        return self._unigram[c]\n",
        "\n",
        "    def get_char_bigram(self, c: str, d: str) -> float:\n",
        "        \"\"\"Probability that character c is followed by character d.\"\"\"\n",
        "        return self._bigram[c][d]\n",
        "\n",
        "    def train(self, txt: str):\n",
        "        \"\"\"Create language model from text corpus.\"\"\"\n",
        "        # compute unigrams\n",
        "        for c in txt:\n",
        "            # ignore unknown chars\n",
        "            if c not in self._unigram:\n",
        "                continue\n",
        "            self._unigram[c] += 1\n",
        "\n",
        "        # compute bigrams\n",
        "        for i in range(len(txt) - 1):\n",
        "            c = txt[i]\n",
        "            d = txt[i + 1]\n",
        "\n",
        "            # ignore unknown chars\n",
        "            if c not in self._bigram or d not in self._bigram[c]:\n",
        "                continue\n",
        "\n",
        "            self._bigram[c][d] += 1\n",
        "\n",
        "    def normalize(self):\n",
        "        # normalize\n",
        "        sum_unigram = sum(self._unigram.values())\n",
        "        for c in self.chars:\n",
        "            self._unigram[c] /= sum_unigram\n",
        "\n",
        "        for c in self.chars:\n",
        "            sum_bigram = sum(self._bigram[c].values())\n",
        "            if sum_bigram == 0:\n",
        "                continue\n",
        "            for d in self.chars:\n",
        "                self._bigram[c][d] /= sum_bigram\n",
        "\n",
        "    def save(self, path):\n",
        "        with open(os.path.join(path, \"unigram.pkl\"), 'wb') as pkl:\n",
        "            pickle.dump(self._unigram, pkl)\n",
        "        with open(os.path.join(path, \"bigram.pkl\"), 'wb') as pkl:\n",
        "            pickle.dump(self._bigram, pkl)\n",
        "\n",
        "    def load(self, path):\n",
        "        with open(os.path.join(path, \"unigram.pkl\"), 'rb') as pkl:\n",
        "            self._unigram = pickle.load(pkl)\n",
        "        with open(os.path.join(path, \"bigram.pkl\"), 'rb') as pkl:\n",
        "            self._bigram = pickle.load(pkl)"
      ],
      "execution_count": 22,
      "outputs": []
    },
    {
      "cell_type": "code",
      "metadata": {
        "id": "BdAZjTyu2EgL"
      },
      "source": [
        "# Loading the wikipedia dataset.\n",
        "DATASET_NAME = 'wikipedia/20190301.en'\n",
        "# DATASET_NAME = 'wikipedia/20190301.uk'\n",
        "\n",
        "dataset, dataset_info = tfds.load(\n",
        "    name=DATASET_NAME,\n",
        "    data_dir='tmp',\n",
        "    with_info=True,\n",
        "    split=tfds.Split.TRAIN)"
      ],
      "execution_count": 23,
      "outputs": []
    },
    {
      "cell_type": "code",
      "metadata": {
        "colab": {
          "base_uri": "https://localhost:8080/"
        },
        "id": "bMhatKag2Nw9",
        "outputId": "412f4dce-a3cf-4779-a0aa-e3963c625cba"
      },
      "source": [
        "print(dataset)"
      ],
      "execution_count": 24,
      "outputs": [
        {
          "output_type": "stream",
          "name": "stdout",
          "text": [
            "<PrefetchDataset shapes: {text: (), title: ()}, types: {text: tf.string, title: tf.string}>\n"
          ]
        }
      ]
    },
    {
      "cell_type": "code",
      "metadata": {
        "colab": {
          "base_uri": "https://localhost:8080/"
        },
        "id": "CUoeROKZ6bw7",
        "outputId": "f57b710d-f87a-4b51-9346-5a76453a8646"
      },
      "source": [
        "TRAIN_NUM_EXAMPLES = dataset_info.splits['train'].num_examples\n",
        "print('Total number of articles: ', TRAIN_NUM_EXAMPLES)"
      ],
      "execution_count": 25,
      "outputs": [
        {
          "output_type": "stream",
          "name": "stdout",
          "text": [
            "Total number of articles:  5824596\n"
          ]
        }
      ]
    },
    {
      "cell_type": "code",
      "metadata": {
        "id": "Vrs6RqLE_of_"
      },
      "source": [
        "vocab_dict = {\"<pad>\": 0,\n",
        "              \"<s>\": 1,\n",
        "              \"</s>\": 2,\n",
        "              \"<unk>\": 3,\n",
        "              \"|\": 4,\n",
        "              \"E\": 5,\n",
        "              \"T\": 6,\n",
        "              \"A\": 7,\n",
        "              \"O\": 8,\n",
        "              \"N\": 9,\n",
        "              \"I\": 10,\n",
        "              \"H\": 11,\n",
        "              \"S\": 12,\n",
        "              \"R\": 13,\n",
        "              \"D\": 14,\n",
        "              \"L\": 15,\n",
        "              \"U\": 16,\n",
        "              \"M\": 17,\n",
        "              \"W\": 18,\n",
        "              \"C\": 19,\n",
        "              \"F\": 20,\n",
        "              \"G\": 21,\n",
        "              \"Y\": 22,\n",
        "              \"P\": 23,\n",
        "              \"B\": 24,\n",
        "              \"V\": 25,\n",
        "              \"K\": 26,\n",
        "              \"'\": 27,\n",
        "              \"X\": 28,\n",
        "              \"J\": 29,\n",
        "              \"Q\": 30,\n",
        "              \"Z\": 31\n",
        "              }\n",
        "\n",
        "vocab_list = [key for key, value in vocab_dict.items()]"
      ],
      "execution_count": 26,
      "outputs": []
    },
    {
      "cell_type": "code",
      "metadata": {
        "id": "Bi3qjUKjAYR-"
      },
      "source": [
        "def change_digit_to_word(x):\n",
        "    x = x.replace(\"0\", \"zero \")\n",
        "    x = x.replace(\"1\", \"one \")\n",
        "    x = x.replace(\"2\", \"two \")\n",
        "    x = x.replace(\"3\", \"three \")\n",
        "    x = x.replace(\"4\", \"four \")\n",
        "    x = x.replace(\"5\", \"five \")\n",
        "    x = x.replace(\"6\", \"six \")\n",
        "    x = x.replace(\"7\", \"seven \")\n",
        "    x = x.replace(\"8\", \"eight \")\n",
        "    x = x.replace(\"9\", \"nine \")\n",
        "    x = x.replace(\"  \", \" \")\n",
        "    x = x.strip()\n",
        "    return x"
      ],
      "execution_count": 27,
      "outputs": []
    },
    {
      "cell_type": "code",
      "metadata": {
        "id": "mE4QEWz8_ORR"
      },
      "source": [
        "lm = LanguageModel(chars=vocab_list[1:])"
      ],
      "execution_count": 31,
      "outputs": []
    },
    {
      "cell_type": "code",
      "metadata": {
        "colab": {
          "base_uri": "https://localhost:8080/",
          "height": 49,
          "referenced_widgets": [
            "0677f310a8104790b2f4545d1bece7b0",
            "5cb0a81006e14c4eba6da4cb4b9bf14b",
            "0cd3f576c0c2445f9817c5b56a87b900",
            "4f066cb8912e40108de0c8d0d5667b09",
            "35e18b46304a40e696ea98c7e05d6c94",
            "54b399d1ad7747088cc4a73837b87c60",
            "e2d00fc27634452383943b40e131f36d",
            "b8da8be70fb342b0ae900853af0bb7d1",
            "3321512e63f9446f8d2d8d57d7586607",
            "ec1edc03d12241ba96e467f120e46ac0",
            "030880aa5a054d788231490e0f4a7e78"
          ]
        },
        "id": "ap0wYRTa4w6L",
        "outputId": "1ba7cd8d-d70b-489b-9dc7-a143668c1fe0"
      },
      "source": [
        "sample_per_corpus = 1000\n",
        "corpus = \"\"\n",
        "step = 0\n",
        "for example in tqdm(dataset):\n",
        "    corpus += example['title'].numpy().decode('utf-8')\n",
        "    corpus += \" \"\n",
        "    corpus += example['text'].numpy().decode('utf-8')\n",
        "    step += 1\n",
        "    if step == sample_per_corpus:\n",
        "        lm.train(corpus)\n",
        "        step = 0\n",
        "        corpus = \"\"\n",
        "lm.normalize()"
      ],
      "execution_count": 32,
      "outputs": [
        {
          "output_type": "display_data",
          "data": {
            "application/vnd.jupyter.widget-view+json": {
              "model_id": "0677f310a8104790b2f4545d1bece7b0",
              "version_minor": 0,
              "version_major": 2
            },
            "text/plain": [
              "  0%|          | 0/5824596 [00:00<?, ?it/s]"
            ]
          },
          "metadata": {}
        }
      ]
    },
    {
      "cell_type": "code",
      "metadata": {
        "id": "pic_tHjgGiUy"
      },
      "source": [
        "os.makedirs(\"lm\", exist_ok=True)\n",
        "lm.save(\"lm\")"
      ],
      "execution_count": 35,
      "outputs": []
    },
    {
      "cell_type": "code",
      "metadata": {
        "colab": {
          "base_uri": "https://localhost:8080/"
        },
        "id": "94Wi1OX3Hs0N",
        "outputId": "1c6758b7-cb48-48a4-aa2e-a32cdf05734a"
      },
      "source": [
        "!zip lm.zip -r lm"
      ],
      "execution_count": 37,
      "outputs": [
        {
          "output_type": "stream",
          "name": "stdout",
          "text": [
            "  adding: lm/ (stored 0%)\n",
            "  adding: lm/unigram.pkl (deflated 19%)\n",
            "  adding: lm/bigram.pkl (deflated 60%)\n"
          ]
        }
      ]
    },
    {
      "cell_type": "code",
      "metadata": {
        "id": "unQL7YvUK8-Q"
      },
      "source": [
        ""
      ],
      "execution_count": null,
      "outputs": []
    }
  ]
}