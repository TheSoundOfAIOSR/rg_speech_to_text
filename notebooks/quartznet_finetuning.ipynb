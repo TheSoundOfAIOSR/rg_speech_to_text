{
 "cells": [
  {
   "cell_type": "markdown",
   "metadata": {
    "id": "VuWkEpRfLuKi"
   },
   "source": [
    "# Cloning SOUNDOFAIOSR speech to text"
   ]
  },
  {
   "cell_type": "code",
   "execution_count": null,
   "metadata": {
    "colab": {
     "base_uri": "https://localhost:8080/"
    },
    "executionInfo": {
     "elapsed": 3405,
     "status": "ok",
     "timestamp": 1626617526321,
     "user": {
      "displayName": "Tibor Kiss",
      "photoUrl": "https://lh3.googleusercontent.com/a-/AOh14GiPSg5fleSw-fceFqlW-2pkhpiqIn30S1zCZOZM8w=s64",
      "userId": "10453339191915093220"
     },
     "user_tz": -120
    },
    "id": "2MMXcWFFgCXU",
    "outputId": "0674b56c-b020-404d-bee4-bd630914e707"
   },
   "outputs": [],
   "source": [
    "!git clone https://github.com/TheSoundOfAIOSR/rg_speech_to_text"
   ]
  },
  {
   "cell_type": "markdown",
   "metadata": {
    "id": "hUWLtd3KLuKo"
   },
   "source": [
    "# Installing Dependencies"
   ]
  },
  {
   "cell_type": "code",
   "execution_count": 1,
   "metadata": {
    "executionInfo": {
     "elapsed": 685,
     "status": "ok",
     "timestamp": 1626617539397,
     "user": {
      "displayName": "Tibor Kiss",
      "photoUrl": "https://lh3.googleusercontent.com/a-/AOh14GiPSg5fleSw-fceFqlW-2pkhpiqIn30S1zCZOZM8w=s64",
      "userId": "10453339191915093220"
     },
     "user_tz": -120
    },
    "id": "6FCgsp8hkEC8"
   },
   "outputs": [],
   "source": [
    "## Set NeMo branch\n",
    "BRANCH = \"r1.1.0\""
   ]
  },
  {
   "cell_type": "code",
   "execution_count": null,
   "metadata": {
    "executionInfo": {
     "elapsed": 218002,
     "status": "ok",
     "timestamp": 1626617762320,
     "user": {
      "displayName": "Tibor Kiss",
      "photoUrl": "https://lh3.googleusercontent.com/a-/AOh14GiPSg5fleSw-fceFqlW-2pkhpiqIn30S1zCZOZM8w=s64",
      "userId": "10453339191915093220"
     },
     "user_tz": -120
    },
    "id": "c8eh87Hoee5d"
   },
   "outputs": [],
   "source": [
    "%%capture\n",
    "!pip install wget\n",
    "!apt-get install sox libsndfile1 ffmpeg libsox-fmt-mp3\n",
    "!pip install unidecode\n",
    "!pip install matplotlib>=3.3.2\n",
    "!pip install torchaudio\n",
    "!pip install jiwer\n",
    "## Install NeMo (use BRANCH variable)\n",
    "!python -m pip install git+https://github.com/NVIDIA/NeMo.git@$BRANCH#egg=nemo_toolkit[all]\n",
    "\n",
    "\"\"\"\n",
    "Remember to restart the runtime for the kernel to pick up any upgraded packages (e.g. matplotlib)!\n",
    "Alternatively, you can uncomment the exit() below to crash and restart the kernel, in the case\n",
    "that you want to use the \"Run All Cells\" (or similar) option.\n",
    "\"\"\"\n",
    "# exit()\n"
   ]
  },
  {
   "cell_type": "code",
   "execution_count": 2,
   "metadata": {
    "executionInfo": {
     "elapsed": 320,
     "status": "ok",
     "timestamp": 1626618461444,
     "user": {
      "displayName": "Tibor Kiss",
      "photoUrl": "https://lh3.googleusercontent.com/a-/AOh14GiPSg5fleSw-fceFqlW-2pkhpiqIn30S1zCZOZM8w=s64",
      "userId": "10453339191915093220"
     },
     "user_tz": -120
    },
    "id": "AOl7gehSlHSF"
   },
   "outputs": [],
   "source": [
    "import os\n",
    "import glob\n",
    "import subprocess\n",
    "import tarfile\n",
    "import wget\n",
    "import copy\n",
    "from tqdm import tqdm\n",
    "from omegaconf import OmegaConf, open_dict"
   ]
  },
  {
   "cell_type": "code",
   "execution_count": 3,
   "metadata": {
    "executionInfo": {
     "elapsed": 2,
     "status": "ok",
     "timestamp": 1626618104158,
     "user": {
      "displayName": "Tibor Kiss",
      "photoUrl": "https://lh3.googleusercontent.com/a-/AOh14GiPSg5fleSw-fceFqlW-2pkhpiqIn30S1zCZOZM8w=s64",
      "userId": "10453339191915093220"
     },
     "user_tz": -120
    },
    "id": "RV9DeO5nlKIy"
   },
   "outputs": [],
   "source": [
    "data_dir = 'datasets/'\n",
    "\n",
    "if not os.path.exists(data_dir):\n",
    "  os.makedirs(data_dir, exist_ok=True)\n",
    "\n",
    "if not os.path.exists(\"scripts\"):\n",
    "  os.makedirs(\"scripts\")"
   ]
  },
  {
   "cell_type": "code",
   "execution_count": 4,
   "metadata": {
    "colab": {
     "base_uri": "https://localhost:8080/"
    },
    "executionInfo": {
     "elapsed": 10897,
     "status": "ok",
     "timestamp": 1626618117058,
     "user": {
      "displayName": "Tibor Kiss",
      "photoUrl": "https://lh3.googleusercontent.com/a-/AOh14GiPSg5fleSw-fceFqlW-2pkhpiqIn30S1zCZOZM8w=s64",
      "userId": "10453339191915093220"
     },
     "user_tz": -120
    },
    "id": "qUBB7xKRlMTT",
    "outputId": "161d5962-29f1-4c19-fc67-ab7dc79edd46"
   },
   "outputs": [
    {
     "name": "stderr",
     "output_type": "stream",
     "text": [
      "/home/tibor/venv/pt18cuda/lib/python3.8/site-packages/pytorch_lightning/metrics/__init__.py:43: LightningDeprecationWarning: `pytorch_lightning.metrics.*` module has been renamed to `torchmetrics.*` and split off to its own package (https://github.com/PyTorchLightning/metrics) since v1.3 and will be removed in v1.5\n",
      "  rank_zero_deprecation(\n",
      "[NeMo W 2021-07-24 13:45:09 optimizers:47] Apex was not found. Using the lamb optimizer will error out.\n",
      "################################################################################\n",
      "### WARNING, path does not exist: KALDI_ROOT=/mnt/matylda5/iveselyk/Tools/kaldi-trunk\n",
      "###          (please add 'export KALDI_ROOT=<your_path>' in your $HOME/.profile)\n",
      "###          (or run as: KALDI_ROOT=<your_path> python <your_script>.py)\n",
      "################################################################################\n",
      "\n",
      "[NeMo W 2021-07-24 13:45:10 experimental:27] Module <class 'nemo.collections.asr.data.audio_to_text_dali.AudioToCharDALIDataset'> is experimental, not ready for production and is not fully supported. Use at your own risk.\n"
     ]
    }
   ],
   "source": [
    "import nemo\n",
    "import nemo.collections.asr as nemo_asr\n",
    "from nemo.collections.asr.metrics.wer import word_error_rate\n",
    "from nemo.utils import logging, exp_manager"
   ]
  },
  {
   "cell_type": "markdown",
   "metadata": {
    "id": "mABAdo1tzoT4"
   },
   "source": [
    "# Loading and preprocessing data"
   ]
  },
  {
   "cell_type": "code",
   "execution_count": 5,
   "metadata": {
    "executionInfo": {
     "elapsed": 394,
     "status": "ok",
     "timestamp": 1626618250448,
     "user": {
      "displayName": "Tibor Kiss",
      "photoUrl": "https://lh3.googleusercontent.com/a-/AOh14GiPSg5fleSw-fceFqlW-2pkhpiqIn30S1zCZOZM8w=s64",
      "userId": "10453339191915093220"
     },
     "user_tz": -120
    },
    "id": "eH5dPfZzzpkd"
   },
   "outputs": [],
   "source": [
    "project_root = \"..\" #\"rg_speech_to_text\"\n",
    "csv_path = project_root + \"/data/finetuning-dataset/finetuning-dataset.csv\"\n",
    "audio_path = project_root + \"/data/finetuning-dataset/audiofiles\"\n",
    "file_prefixes = ['TA-', 'TK-', 'TM-']"
   ]
  },
  {
   "cell_type": "code",
   "execution_count": 6,
   "metadata": {
    "executionInfo": {
     "elapsed": 296,
     "status": "ok",
     "timestamp": 1626618331384,
     "user": {
      "displayName": "Tibor Kiss",
      "photoUrl": "https://lh3.googleusercontent.com/a-/AOh14GiPSg5fleSw-fceFqlW-2pkhpiqIn30S1zCZOZM8w=s64",
      "userId": "10453339191915093220"
     },
     "user_tz": -120
    },
    "id": "oWpXKFDWAX1R"
   },
   "outputs": [],
   "source": [
    "# Dataset file reading/writing utils\n",
    "\n",
    "def match_id_to_audiofile(audio_path, id, prefixes, extension='.wav'):\n",
    "  fnames = [os.path.join(os.path.abspath(audio_path), prefix + id + extension) for prefix in prefixes]\n",
    "  fexists = [f for f in fnames if os.path.exists(f)]\n",
    "  return fexists\n",
    "\n",
    "def to_manifest_dict(audiofiles, text):\n",
    "  return [{'audio_filepath': af, 'duration': 3.000, 'text': text} for af in audiofiles]\n",
    "\n",
    "def read_datasetcsv(csv_path, audio_path, prefixes):\n",
    "  manifest = []\n",
    "  with open(csv_path, 'r') as f:\n",
    "    for line in tqdm(f, desc=\"Reading dataset\"):\n",
    "      line = line.replace(\"\\n\", \"\")\n",
    "      data = line.split(\"|\")\n",
    "      manifest.append(to_manifest_dict(\n",
    "          match_id_to_audiofile(audio_path, data[0], prefixes), data[1]))\n",
    "  return [item for sublist in manifest for item in sublist]\n",
    "\n",
    "def read_manifest(path):\n",
    "    manifest = []\n",
    "    with open(path, 'r') as f:\n",
    "        for line in tqdm(f, desc=\"Reading manifest data\"):\n",
    "            line = line.replace(\"\\n\", \"\")\n",
    "            data = json.loads(line)\n",
    "            manifest.append(data)\n",
    "    return manifest\n",
    "\n",
    "def write_processed_manifest(data, original_path, category):\n",
    "  original_manifest_name = os.path.basename(original_path)\n",
    "  new_manifest_name = original_manifest_name.replace(\".csv\", \"_\" + category + \"_processed.json\")\n",
    "\n",
    "  manifest_dir = os.path.split(original_path)[0]\n",
    "  filepath = os.path.join(manifest_dir, new_manifest_name)\n",
    "  with open(filepath, 'w') as f:\n",
    "    for datum in tqdm(data, desc=\"Writing manifest data\"):\n",
    "      datum = json.dumps(datum)\n",
    "      f.write(f\"{datum}\\n\")\n",
    "  print(f\"Finished writing manifest: {filepath}\")\n",
    "  return filepath"
   ]
  },
  {
   "cell_type": "code",
   "execution_count": 7,
   "metadata": {},
   "outputs": [],
   "source": [
    "import numpy as np\n",
    "import pandas as pd\n",
    "\n",
    "def train_validate_test_split(df, train_percent=.6, validate_percent=.2, seed=None):\n",
    "    np.random.seed(seed)\n",
    "    perm = np.random.permutation(df.index)\n",
    "    m = len(df.index)\n",
    "    train_end = int(train_percent * m)\n",
    "    validate_end = int(validate_percent * m) + train_end\n",
    "    train = df.iloc[perm[:train_end]]\n",
    "    validate = df.iloc[perm[train_end:validate_end]]\n",
    "    test = df.iloc[perm[validate_end:]]\n",
    "    return train, validate, test"
   ]
  },
  {
   "cell_type": "code",
   "execution_count": 8,
   "metadata": {
    "colab": {
     "base_uri": "https://localhost:8080/"
    },
    "executionInfo": {
     "elapsed": 400,
     "status": "ok",
     "timestamp": 1626618482150,
     "user": {
      "displayName": "Tibor Kiss",
      "photoUrl": "https://lh3.googleusercontent.com/a-/AOh14GiPSg5fleSw-fceFqlW-2pkhpiqIn30S1zCZOZM8w=s64",
      "userId": "10453339191915093220"
     },
     "user_tz": -120
    },
    "id": "viEJw0DO9N1C",
    "outputId": "ec967a5a-d4ff-42eb-c84c-04b68a94c9b6"
   },
   "outputs": [
    {
     "name": "stderr",
     "output_type": "stream",
     "text": [
      "Reading dataset: 47it [00:00, 38600.41it/s]\n"
     ]
    }
   ],
   "source": [
    "mixed_manifest_data = read_datasetcsv(csv_path, audio_path, file_prefixes)"
   ]
  },
  {
   "cell_type": "code",
   "execution_count": 9,
   "metadata": {},
   "outputs": [],
   "source": [
    "def split_mixed_manifest_data(mixed_manifest_data):\n",
    "    train, dev, test = train_validate_test_split(pd.DataFrame(mixed_manifest_data))\n",
    "    return train.to_dict('records'), dev.to_dict('records'), test.to_dict('records')"
   ]
  },
  {
   "cell_type": "code",
   "execution_count": 10,
   "metadata": {},
   "outputs": [],
   "source": [
    "train_manifest_data, dev_manifest_data, test_manifest_data = split_mixed_manifest_data(mixed_manifest_data)"
   ]
  },
  {
   "cell_type": "code",
   "execution_count": 11,
   "metadata": {},
   "outputs": [],
   "source": [
    "train_text = [data['text'] for data in train_manifest_data]\n",
    "dev_text = [data['text'] for data in dev_manifest_data]\n",
    "test_text = [data['text'] for data in test_manifest_data]"
   ]
  },
  {
   "cell_type": "markdown",
   "metadata": {
    "id": "cbj6TMV4LiNA"
   },
   "source": [
    "## Character set"
   ]
  },
  {
   "cell_type": "code",
   "execution_count": 12,
   "metadata": {
    "executionInfo": {
     "elapsed": 222,
     "status": "ok",
     "timestamp": 1626604445092,
     "user": {
      "displayName": "Tibor Kiss",
      "photoUrl": "https://lh3.googleusercontent.com/a-/AOh14GiPSg5fleSw-fceFqlW-2pkhpiqIn30S1zCZOZM8w=s64",
      "userId": "10453339191915093220"
     },
     "user_tz": -120
    },
    "id": "nMkqfTzhLdp5"
   },
   "outputs": [],
   "source": [
    "from collections import defaultdict\n",
    "\n",
    "def get_charset(manifest_data):\n",
    "    charset = defaultdict(int)\n",
    "    for row in tqdm(manifest_data, desc=\"Computing character set\"):\n",
    "        text = row['text']\n",
    "        for character in text:\n",
    "            charset[character] += 1\n",
    "    return charset"
   ]
  },
  {
   "cell_type": "code",
   "execution_count": 13,
   "metadata": {
    "colab": {
     "base_uri": "https://localhost:8080/",
     "height": 66,
     "referenced_widgets": [
      "948cafce8c544f8ca50623adb9a16148",
      "c999276336f440099fc8c9d8d3a9136e",
      "c5a96154c961442a8c08c5525e9032be",
      "a09d94b932244dfa8a0c24e03e6b700f",
      "b4c289b354974238861d742f05eb3971",
      "4ccd69f93caf4896ba6342ccb8a94d28",
      "b52e1b05e9da40b98821d5ba17b2fb2d",
      "de9896f900c2471191faa762bb2e9dd8"
     ]
    },
    "executionInfo": {
     "elapsed": 192,
     "status": "ok",
     "timestamp": 1626604468608,
     "user": {
      "displayName": "Tibor Kiss",
      "photoUrl": "https://lh3.googleusercontent.com/a-/AOh14GiPSg5fleSw-fceFqlW-2pkhpiqIn30S1zCZOZM8w=s64",
      "userId": "10453339191915093220"
     },
     "user_tz": -120
    },
    "id": "yy3W6ssMLnHU",
    "outputId": "add22ba1-115d-4719-beea-19a8ae965f9a"
   },
   "outputs": [
    {
     "name": "stderr",
     "output_type": "stream",
     "text": [
      "Computing character set: 100%|██████████████████████████████████████████████████████| 69/69 [00:00<00:00, 401954.13it/s]\n",
      "Computing character set: 100%|██████████████████████████████████████████████████████| 23/23 [00:00<00:00, 164904.26it/s]\n",
      "Computing character set: 100%|██████████████████████████████████████████████████████| 24/24 [00:00<00:00, 190289.78it/s]\n"
     ]
    }
   ],
   "source": [
    "train_charset = get_charset(train_manifest_data)\n",
    "dev_charset = get_charset(dev_manifest_data)\n",
    "test_charset = get_charset(test_manifest_data)"
   ]
  },
  {
   "cell_type": "code",
   "execution_count": 14,
   "metadata": {},
   "outputs": [],
   "source": [
    "train_dev_set = set.union(set(train_charset.keys()), set(dev_charset.keys()))\n",
    "test_set = set(test_charset.keys())"
   ]
  },
  {
   "cell_type": "markdown",
   "metadata": {
    "id": "w82DWb_ILsDg"
   },
   "source": [
    "Count the number of unique tokens that exist within this dataset"
   ]
  },
  {
   "cell_type": "code",
   "execution_count": 15,
   "metadata": {
    "colab": {
     "base_uri": "https://localhost:8080/"
    },
    "executionInfo": {
     "elapsed": 226,
     "status": "ok",
     "timestamp": 1626604535680,
     "user": {
      "displayName": "Tibor Kiss",
      "photoUrl": "https://lh3.googleusercontent.com/a-/AOh14GiPSg5fleSw-fceFqlW-2pkhpiqIn30S1zCZOZM8w=s64",
      "userId": "10453339191915093220"
     },
     "user_tz": -120
    },
    "id": "cQ2tdHTTLtIT",
    "outputId": "64e23e9e-6668-43a3-bbbf-9c0a7e4f5b58"
   },
   "outputs": [
    {
     "name": "stdout",
     "output_type": "stream",
     "text": [
      "Number of tokens in train+dev set : 42\n",
      "Number of tokens in test set : 37\n"
     ]
    }
   ],
   "source": [
    "print(f\"Number of tokens in train+dev set : {len(train_dev_set)}\")\n",
    "print(f\"Number of tokens in test set : {len(test_set)}\")"
   ]
  },
  {
   "cell_type": "markdown",
   "metadata": {
    "id": "WB0e3U7PMHPa"
   },
   "source": [
    "## Process special character tokens"
   ]
  },
  {
   "cell_type": "code",
   "execution_count": 16,
   "metadata": {
    "executionInfo": {
     "elapsed": 606,
     "status": "ok",
     "timestamp": 1626618507303,
     "user": {
      "displayName": "Tibor Kiss",
      "photoUrl": "https://lh3.googleusercontent.com/a-/AOh14GiPSg5fleSw-fceFqlW-2pkhpiqIn30S1zCZOZM8w=s64",
      "userId": "10453339191915093220"
     },
     "user_tz": -120
    },
    "id": "rSS-SokH_lxK"
   },
   "outputs": [],
   "source": [
    "# Preprocessing\n",
    "import re\n",
    "\n",
    "chars_to_ignore_regex = '[\\,\\?\\.\\!\\-\\;\\:\\\"\\“\\%\\‘\\”\\�\\…\\{\\}\\【\\】\\・\\。\\『\\』\\、\\ー\\〜]'  # remove special character tokens\n",
    "\n",
    "def remove_special_characters(data):\n",
    "    data[\"text\"] = re.sub(chars_to_ignore_regex, '', data[\"text\"]).lower().strip()\n",
    "    return data\n",
    "\n",
    "def change_digit_to_word(data):\n",
    "  data[\"text\"] = data[\"text\"].replace(\"0\", \"zero \")\n",
    "  data[\"text\"] = data[\"text\"].replace(\"1\", \"one \")\n",
    "  data[\"text\"] = data[\"text\"].replace(\"2\", \"two \")\n",
    "  data[\"text\"] = data[\"text\"].replace(\"3\", \"three \")\n",
    "  data[\"text\"] = data[\"text\"].replace(\"4\", \"four \")\n",
    "  data[\"text\"] = data[\"text\"].replace(\"5\", \"five \")\n",
    "  data[\"text\"] = data[\"text\"].replace(\"6\", \"six \")\n",
    "  data[\"text\"] = data[\"text\"].replace(\"7\", \"seven \")\n",
    "  data[\"text\"] = data[\"text\"].replace(\"8\", \"eight \")\n",
    "  data[\"text\"] = data[\"text\"].replace(\"9\", \"nine \")\n",
    "  return data\n",
    "\n",
    "def replace_double_spaces(data):\n",
    "  data[\"text\"] = data[\"text\"].replace(\"  \", \" \")\n",
    "  return data\n",
    "\n",
    "# Processing pipeline\n",
    "def apply_preprocessors(manifest, preprocessors):\n",
    "    for processor in preprocessors:\n",
    "        for idx in tqdm(range(len(manifest)), desc=f\"Applying {processor.__name__}\"):\n",
    "            manifest[idx] = processor(manifest[idx])\n",
    "\n",
    "    print(\"Finished processing manifest !\")\n",
    "    return manifest\n",
    "\n",
    "# List of pre-processing functions\n",
    "PREPROCESSORS = [\n",
    "    remove_special_characters,\n",
    "    change_digit_to_word,\n",
    "    replace_double_spaces,\n",
    "]\n"
   ]
  },
  {
   "cell_type": "code",
   "execution_count": 17,
   "metadata": {
    "colab": {
     "base_uri": "https://localhost:8080/"
    },
    "executionInfo": {
     "elapsed": 291,
     "status": "ok",
     "timestamp": 1626618513949,
     "user": {
      "displayName": "Tibor Kiss",
      "photoUrl": "https://lh3.googleusercontent.com/a-/AOh14GiPSg5fleSw-fceFqlW-2pkhpiqIn30S1zCZOZM8w=s64",
      "userId": "10453339191915093220"
     },
     "user_tz": -120
    },
    "id": "Q2mw1ECUNBdJ",
    "outputId": "b607a115-e471-4451-ebce-139bf22f6d80"
   },
   "outputs": [
    {
     "name": "stderr",
     "output_type": "stream",
     "text": [
      "Applying remove_special_characters: 100%|███████████████████████████████████████████| 69/69 [00:00<00:00, 118512.28it/s]\n",
      "Applying change_digit_to_word: 100%|████████████████████████████████████████████████| 69/69 [00:00<00:00, 529080.39it/s]\n",
      "Applying replace_double_spaces: 100%|███████████████████████████████████████████████| 69/69 [00:00<00:00, 716353.90it/s]\n"
     ]
    },
    {
     "name": "stdout",
     "output_type": "stream",
     "text": [
      "Finished processing manifest !\n"
     ]
    },
    {
     "name": "stderr",
     "output_type": "stream",
     "text": [
      "Applying remove_special_characters: 100%|███████████████████████████████████████████| 23/23 [00:00<00:00, 246723.76it/s]\n",
      "Applying change_digit_to_word: 100%|████████████████████████████████████████████████| 23/23 [00:00<00:00, 246094.37it/s]\n",
      "Applying replace_double_spaces: 100%|███████████████████████████████████████████████| 23/23 [00:00<00:00, 327013.53it/s]\n"
     ]
    },
    {
     "name": "stdout",
     "output_type": "stream",
     "text": [
      "Finished processing manifest !\n"
     ]
    },
    {
     "name": "stderr",
     "output_type": "stream",
     "text": [
      "Applying remove_special_characters: 100%|███████████████████████████████████████████| 24/24 [00:00<00:00, 260111.88it/s]\n",
      "Applying change_digit_to_word: 100%|████████████████████████████████████████████████| 24/24 [00:00<00:00, 272062.96it/s]\n",
      "Applying replace_double_spaces: 100%|███████████████████████████████████████████████| 24/24 [00:00<00:00, 360800.34it/s]"
     ]
    },
    {
     "name": "stdout",
     "output_type": "stream",
     "text": [
      "Finished processing manifest !\n"
     ]
    },
    {
     "name": "stderr",
     "output_type": "stream",
     "text": [
      "\n"
     ]
    }
   ],
   "source": [
    "# Apply preprocessing\n",
    "train_data_processed = apply_preprocessors(train_manifest_data, PREPROCESSORS)\n",
    "dev_data_processed = apply_preprocessors(dev_manifest_data, PREPROCESSORS)\n",
    "test_data_processed = apply_preprocessors(test_manifest_data, PREPROCESSORS)"
   ]
  },
  {
   "cell_type": "code",
   "execution_count": 18,
   "metadata": {
    "colab": {
     "base_uri": "https://localhost:8080/"
    },
    "executionInfo": {
     "elapsed": 364,
     "status": "ok",
     "timestamp": 1626618757902,
     "user": {
      "displayName": "Tibor Kiss",
      "photoUrl": "https://lh3.googleusercontent.com/a-/AOh14GiPSg5fleSw-fceFqlW-2pkhpiqIn30S1zCZOZM8w=s64",
      "userId": "10453339191915093220"
     },
     "user_tz": -120
    },
    "id": "MdWaPi_qP8QW",
    "outputId": "38b9dea9-e75d-4f13-d3c1-425ea5c025da"
   },
   "outputs": [
    {
     "name": "stderr",
     "output_type": "stream",
     "text": [
      "Writing manifest data: 100%|█████████████████████████████████████████████████████████| 69/69 [00:00<00:00, 90780.11it/s]\n"
     ]
    },
    {
     "name": "stdout",
     "output_type": "stream",
     "text": [
      "Finished writing manifest: ../data/finetuning-dataset/finetuning-dataset_train_processed.json\n"
     ]
    },
    {
     "name": "stderr",
     "output_type": "stream",
     "text": [
      "Writing manifest data: 100%|████████████████████████████████████████████████████████| 23/23 [00:00<00:00, 166613.11it/s]\n"
     ]
    },
    {
     "name": "stdout",
     "output_type": "stream",
     "text": [
      "Finished writing manifest: ../data/finetuning-dataset/finetuning-dataset_dev_processed.json\n"
     ]
    },
    {
     "name": "stderr",
     "output_type": "stream",
     "text": [
      "Writing manifest data: 100%|████████████████████████████████████████████████████████| 24/24 [00:00<00:00, 177850.35it/s]"
     ]
    },
    {
     "name": "stdout",
     "output_type": "stream",
     "text": [
      "Finished writing manifest: ../data/finetuning-dataset/finetuning-dataset_test_processed.json\n"
     ]
    },
    {
     "name": "stderr",
     "output_type": "stream",
     "text": [
      "\n"
     ]
    }
   ],
   "source": [
    "# Write new manifests\n",
    "import json\n",
    "train_manifest_cleaned = write_processed_manifest(train_data_processed, csv_path, 'train')\n",
    "dev_manifest_cleaned = write_processed_manifest(dev_data_processed, csv_path, 'dev')\n",
    "test_manifest_cleaned = write_processed_manifest(test_data_processed, csv_path, 'test')\n"
   ]
  },
  {
   "cell_type": "code",
   "execution_count": 19,
   "metadata": {
    "colab": {
     "base_uri": "https://localhost:8080/",
     "height": 116,
     "referenced_widgets": [
      "7cd7d979f8ea456fb5e4987c281a1f0e",
      "6f57d0f7fad447b584b73e3395395f2c",
      "7b82890a25b54d8ab1fbe4608371bc54",
      "7071ce867fd342a692efb4048eda36f9",
      "96756aa2be61452b8c124dad0cb3b8c2",
      "acadda2815cd4279ba04fb02f442e416",
      "25dd6457d58d4dd9be72eb69413837a9",
      "313b935e884e4ea3a9804d5485efa2ff",
      "d4318d1efd8643db8d958f223821ae44",
      "3adc8ae400dc48d58120b4eb90e0ff1f",
      "9ab5a68d97b744f481381fbcd76e553c",
      "fc463339f97a4e6682fee47d051a904b",
      "5614e3b2656247258545d75782c53c5a",
      "6082e0322a8744f6926a013d5e43aa0a",
      "3bfcfddd4a7a4625891f85792de75f34",
      "326e8d1ea5f84d3b9e12f15c2a422bab"
     ]
    },
    "executionInfo": {
     "elapsed": 208,
     "status": "ok",
     "timestamp": 1626608107768,
     "user": {
      "displayName": "Tibor Kiss",
      "photoUrl": "https://lh3.googleusercontent.com/a-/AOh14GiPSg5fleSw-fceFqlW-2pkhpiqIn30S1zCZOZM8w=s64",
      "userId": "10453339191915093220"
     },
     "user_tz": -120
    },
    "id": "Kv8qvwLFnMdo",
    "outputId": "d98a2c3d-48f7-450e-daef-0c398c8b9e0e"
   },
   "outputs": [
    {
     "name": "stderr",
     "output_type": "stream",
     "text": [
      "Reading manifest data: 69it [00:00, 76786.14it/s]\n",
      "Computing character set: 100%|██████████████████████████████████████████████████████| 69/69 [00:00<00:00, 374879.50it/s]\n",
      "Reading manifest data: 23it [00:00, 107068.80it/s]\n",
      "Computing character set: 100%|██████████████████████████████████████████████████████| 23/23 [00:00<00:00, 165469.97it/s]\n"
     ]
    }
   ],
   "source": [
    "train_manifest_data = read_manifest(train_manifest_cleaned)\n",
    "train_charset = get_charset(train_manifest_data)\n",
    "\n",
    "dev_manifest_data = read_manifest(dev_manifest_cleaned)\n",
    "dev_charset = get_charset(dev_manifest_data)\n",
    "\n",
    "train_dev_set = set.union(set(train_charset.keys()), set(dev_charset.keys()))"
   ]
  },
  {
   "cell_type": "code",
   "execution_count": 20,
   "metadata": {
    "colab": {
     "base_uri": "https://localhost:8080/"
    },
    "executionInfo": {
     "elapsed": 185,
     "status": "ok",
     "timestamp": 1626608111336,
     "user": {
      "displayName": "Tibor Kiss",
      "photoUrl": "https://lh3.googleusercontent.com/a-/AOh14GiPSg5fleSw-fceFqlW-2pkhpiqIn30S1zCZOZM8w=s64",
      "userId": "10453339191915093220"
     },
     "user_tz": -120
    },
    "id": "1sownCR9nObO",
    "outputId": "d43381c0-6506-4391-b387-8999fdd892ba"
   },
   "outputs": [
    {
     "name": "stdout",
     "output_type": "stream",
     "text": [
      "Number of tokens in preprocessed train+dev set : 25\n"
     ]
    }
   ],
   "source": [
    "print(f\"Number of tokens in preprocessed train+dev set : {len(train_dev_set)}\")"
   ]
  },
  {
   "cell_type": "markdown",
   "metadata": {
    "id": "LkiIB3VHXxX7"
   },
   "source": [
    "# Character Encoding CTC Model\n",
    "\n",
    "Now that we have a processed dataset, we can begin training an ASR model on this dataset. The following section will detail how we prepare a CTC model which utilizes a Character Encoding scheme.\n",
    "\n",
    "This section will utilize a pre-trained [QuartzNet 15x5](https://arxiv.org/abs/1910.10261), which has been trained on roughly 7,000 hours of English speech base model. We will modify the decoder layer (thereby changing the model's vocabulary) and then train for a small number of epochs."
   ]
  },
  {
   "cell_type": "code",
   "execution_count": 21,
   "metadata": {
    "colab": {
     "base_uri": "https://localhost:8080/"
    },
    "executionInfo": {
     "elapsed": 9591,
     "status": "ok",
     "timestamp": 1626618983929,
     "user": {
      "displayName": "Tibor Kiss",
      "photoUrl": "https://lh3.googleusercontent.com/a-/AOh14GiPSg5fleSw-fceFqlW-2pkhpiqIn30S1zCZOZM8w=s64",
      "userId": "10453339191915093220"
     },
     "user_tz": -120
    },
    "id": "OTrJ7c08YA35",
    "outputId": "7cc076d8-97de-4cb9-8aa3-c2674aed2b13"
   },
   "outputs": [
    {
     "name": "stdout",
     "output_type": "stream",
     "text": [
      "[NeMo I 2021-07-24 13:45:30 cloud:56] Found existing object /home/tibor/.cache/torch/NeMo/NeMo_1.1.0/stt_en_quartznet15x5/16661021d16e679bdfd97a2a03944c49/stt_en_quartznet15x5.nemo.\n",
      "[NeMo I 2021-07-24 13:45:30 cloud:62] Re-using file from: /home/tibor/.cache/torch/NeMo/NeMo_1.1.0/stt_en_quartznet15x5/16661021d16e679bdfd97a2a03944c49/stt_en_quartznet15x5.nemo\n",
      "[NeMo I 2021-07-24 13:45:30 common:676] Instantiating model from pre-trained checkpoint\n"
     ]
    },
    {
     "name": "stderr",
     "output_type": "stream",
     "text": [
      "[NeMo W 2021-07-24 13:45:31 modelPT:138] If you intend to do training or fine-tuning, please call the ModelPT.setup_training_data() method and provide a valid configuration file to setup the train data loader.\n",
      "    Train config : \n",
      "    manifest_filepath: /data2/voices/train_1k.json\n",
      "    sample_rate: 16000\n",
      "    labels:\n",
      "    - ' '\n",
      "    - a\n",
      "    - b\n",
      "    - c\n",
      "    - d\n",
      "    - e\n",
      "    - f\n",
      "    - g\n",
      "    - h\n",
      "    - i\n",
      "    - j\n",
      "    - k\n",
      "    - l\n",
      "    - m\n",
      "    - 'n'\n",
      "    - o\n",
      "    - p\n",
      "    - q\n",
      "    - r\n",
      "    - s\n",
      "    - t\n",
      "    - u\n",
      "    - v\n",
      "    - w\n",
      "    - x\n",
      "    - 'y'\n",
      "    - z\n",
      "    - ''''\n",
      "    batch_size: 32\n",
      "    trim_silence: true\n",
      "    max_duration: 16.7\n",
      "    shuffle: true\n",
      "    is_tarred: false\n",
      "    tarred_audio_filepaths: /asr_set_1.2/train/train_{0..1023}.tar\n",
      "    num_workers: 20\n",
      "    \n",
      "[NeMo W 2021-07-24 13:45:31 modelPT:145] If you intend to do validation, please call the ModelPT.setup_validation_data() or ModelPT.setup_multiple_validation_data() method and provide a valid configuration file to setup the validation data loader(s). \n",
      "    Validation config : \n",
      "    manifest_filepath: /data2/voices/train_1k_samp.json\n",
      "    sample_rate: 16000\n",
      "    labels:\n",
      "    - ' '\n",
      "    - a\n",
      "    - b\n",
      "    - c\n",
      "    - d\n",
      "    - e\n",
      "    - f\n",
      "    - g\n",
      "    - h\n",
      "    - i\n",
      "    - j\n",
      "    - k\n",
      "    - l\n",
      "    - m\n",
      "    - 'n'\n",
      "    - o\n",
      "    - p\n",
      "    - q\n",
      "    - r\n",
      "    - s\n",
      "    - t\n",
      "    - u\n",
      "    - v\n",
      "    - w\n",
      "    - x\n",
      "    - 'y'\n",
      "    - z\n",
      "    - ''''\n",
      "    batch_size: 32\n",
      "    shuffle: false\n",
      "    \n"
     ]
    },
    {
     "name": "stdout",
     "output_type": "stream",
     "text": [
      "[NeMo I 2021-07-24 13:45:31 features:252] PADDING: 16\n",
      "[NeMo I 2021-07-24 13:45:31 features:269] STFT using torch\n",
      "[NeMo I 2021-07-24 13:45:31 modelPT:439] Model EncDecCTCModel was successfully restored from /home/tibor/.cache/torch/NeMo/NeMo_1.1.0/stt_en_quartznet15x5/16661021d16e679bdfd97a2a03944c49/stt_en_quartznet15x5.nemo.\n"
     ]
    }
   ],
   "source": [
    "# \"QuartzNet15x5Base-En\"\n",
    "char_model = nemo_asr.models.ASRModel.from_pretrained(\"stt_en_quartznet15x5\", map_location='cpu')"
   ]
  },
  {
   "cell_type": "markdown",
   "metadata": {},
   "source": [
    "## Update the vocabulary\n",
    "\n",
    "Changing the vocabulary of a character encoding ASR model is as simple as passing the list of new tokens that comprise the vocabulary as input to `change_vocabulary()`."
   ]
  },
  {
   "cell_type": "code",
   "execution_count": 26,
   "metadata": {},
   "outputs": [
    {
     "name": "stdout",
     "output_type": "stream",
     "text": [
      "[NeMo I 2021-07-24 13:46:23 ctc_models:339] Changed decoder to output to ['c', 'b', 'd', ' ', 'o', 'w', 'n', 'm', 't', 'v', 'g', 'h', 'i', 'y', 'u', 'q', 'z', 'k', 's', 'f', 'a', 'l', 'p', 'e', 'r'] vocabulary.\n"
     ]
    }
   ],
   "source": [
    "char_model.change_vocabulary(new_vocabulary=list(train_dev_set))"
   ]
  },
  {
   "cell_type": "markdown",
   "metadata": {
    "id": "e_QgEArDnKNs"
   },
   "source": [
    "## Training on domain specific text\n",
    "\n",
    "It is also important to note that if the language remains the same, and some specific domain of text must be adapted for ASR, it is often easier to add a domain-specific language model to guide the generic ASR model than to attempt fine-tuning a full ASR model on limited data from that specific domain. But we would like to train on dialects we speak, therefore we train on audio files, exactly as other models used in the project.\n"
   ]
  },
  {
   "cell_type": "code",
   "execution_count": 27,
   "metadata": {
    "executionInfo": {
     "elapsed": 194,
     "status": "ok",
     "timestamp": 1626607905225,
     "user": {
      "displayName": "Tibor Kiss",
      "photoUrl": "https://lh3.googleusercontent.com/a-/AOh14GiPSg5fleSw-fceFqlW-2pkhpiqIn30S1zCZOZM8w=s64",
      "userId": "10453339191915093220"
     },
     "user_tz": -120
    },
    "id": "ebhOMbKdYuKJ"
   },
   "outputs": [],
   "source": [
    "#@title Freeze Encoder { display-mode: \"form\" }\n",
    "freeze_encoder = True #@param [\"False\", \"True\"] {type:\"raw\"}\n",
    "freeze_encoder = bool(freeze_encoder)"
   ]
  },
  {
   "cell_type": "markdown",
   "metadata": {
    "id": "DMYYxJ0YZBzA"
   },
   "source": [
    "### Frozen Encoder - Unfrozen Batch Normalization\n",
    "\n",
    "Freezing the encoder is generally helpful to limit computation and enable faster training; however, in many experiments, freezing the encoder in its entirety will often prevent a model from learning on low-resource languages. \n",
    "\n",
    "In order to enable a frozen encoder model to learn on a new language stably, we, therefore, unfreeze the batch normalization layers in the encoder. On top of this, if the model contains \"SqueezeExcite\" sub-modules, we unfreeze them as well.\n",
    "\n",
    "In doing so, we notice that such models train properly and obtain respectable scores even on severely resource-limited languages.\n",
    "\n",
    "------\n",
    "\n",
    "**Note**: This phenomenon disappears when sufficient data is available (in such a case, the entire encoder can be trained as well). Therefore it is advised to unfreeze the encoder when sufficient data is available."
   ]
  },
  {
   "cell_type": "code",
   "execution_count": 28,
   "metadata": {
    "executionInfo": {
     "elapsed": 200,
     "status": "ok",
     "timestamp": 1626609473898,
     "user": {
      "displayName": "Tibor Kiss",
      "photoUrl": "https://lh3.googleusercontent.com/a-/AOh14GiPSg5fleSw-fceFqlW-2pkhpiqIn30S1zCZOZM8w=s64",
      "userId": "10453339191915093220"
     },
     "user_tz": -120
    },
    "id": "oy6QW4LapSPa"
   },
   "outputs": [],
   "source": [
    "import torch\n",
    "import torch.nn as nn\n",
    "\n",
    "def enable_bn_se(m):\n",
    "    if type(m) == nn.BatchNorm1d:\n",
    "        m.train()\n",
    "        for param in m.parameters():\n",
    "            param.requires_grad_(True)\n",
    "\n",
    "    if 'SqueezeExcite' in type(m).__name__:\n",
    "        m.train()\n",
    "        for param in m.parameters():\n",
    "            param.requires_grad_(True)"
   ]
  },
  {
   "cell_type": "code",
   "execution_count": 29,
   "metadata": {
    "colab": {
     "base_uri": "https://localhost:8080/"
    },
    "executionInfo": {
     "elapsed": 190,
     "status": "ok",
     "timestamp": 1626609475095,
     "user": {
      "displayName": "Tibor Kiss",
      "photoUrl": "https://lh3.googleusercontent.com/a-/AOh14GiPSg5fleSw-fceFqlW-2pkhpiqIn30S1zCZOZM8w=s64",
      "userId": "10453339191915093220"
     },
     "user_tz": -120
    },
    "id": "f92t6TKMpTyO",
    "outputId": "911821c6-bb8f-4bc9-948a-f4f7b1e40a49"
   },
   "outputs": [
    {
     "name": "stdout",
     "output_type": "stream",
     "text": [
      "[NeMo I 2021-07-24 13:46:27 705968631:4] Model encoder has been frozen, and batch normalization has been unfrozen\n"
     ]
    }
   ],
   "source": [
    "if freeze_encoder:\n",
    "  char_model.encoder.freeze()\n",
    "  char_model.encoder.apply(enable_bn_se)\n",
    "  logging.info(\"Model encoder has been frozen, and batch normalization has been unfrozen\")\n",
    "else:\n",
    "  char_model.encoder.unfreeze()\n",
    "  logging.info(\"Model encoder has been un-frozen\")"
   ]
  },
  {
   "cell_type": "markdown",
   "metadata": {
    "id": "h15SJagppfkF"
   },
   "source": [
    "## Update config\n",
    "\n",
    "Each NeMo model has a config embedded in it, which can be accessed via `model.cfg`. In general, this is the config that was used to construct the model.\n",
    "\n",
    "For pre-trained models, this config generally represents the config used to construct the model when it was trained. A nice benefit to this embedded config is that we can repurpose it to set up new data loaders, optimizers, schedulers, and even data augmentation!"
   ]
  },
  {
   "cell_type": "code",
   "execution_count": 30,
   "metadata": {
    "executionInfo": {
     "elapsed": 197,
     "status": "ok",
     "timestamp": 1626608187667,
     "user": {
      "displayName": "Tibor Kiss",
      "photoUrl": "https://lh3.googleusercontent.com/a-/AOh14GiPSg5fleSw-fceFqlW-2pkhpiqIn30S1zCZOZM8w=s64",
      "userId": "10453339191915093220"
     },
     "user_tz": -120
    },
    "id": "fQu3QDDPpulu"
   },
   "outputs": [],
   "source": [
    "char_model.cfg.labels = list(train_dev_set)"
   ]
  },
  {
   "cell_type": "markdown",
   "metadata": {
    "id": "yHJ5rUXIp1YH"
   },
   "source": [
    "Now, we create a working copy of the model config and update it as needed."
   ]
  },
  {
   "cell_type": "code",
   "execution_count": 31,
   "metadata": {
    "executionInfo": {
     "elapsed": 471,
     "status": "ok",
     "timestamp": 1626609479967,
     "user": {
      "displayName": "Tibor Kiss",
      "photoUrl": "https://lh3.googleusercontent.com/a-/AOh14GiPSg5fleSw-fceFqlW-2pkhpiqIn30S1zCZOZM8w=s64",
      "userId": "10453339191915093220"
     },
     "user_tz": -120
    },
    "id": "0ZSUn602p4Pn"
   },
   "outputs": [],
   "source": [
    "cfg = copy.deepcopy(char_model.cfg)"
   ]
  },
  {
   "cell_type": "markdown",
   "metadata": {
    "id": "M9Moz3ZYqDP8"
   },
   "source": [
    "### Setting up data loaders\n",
    "\n",
    "Now that the model's character set has been updated let's prepare the model to utilize the new character set even in the data loaders. Note that this is crucial so that the data produced during training/validation matches the new character set, and tokens are encoded/decoded correctly.\n",
    "\n",
    "**Note**: An important config parameter is `normalize_transcripts` and `parser`. There are some parsers that are used for specific languages for character based models - currently only `en` is supported. These parsers will preprocess the text with the given languages parser. However, for other languages, it is advised to explicitly set `normalize_transcripts = False` - which will prevent the parser from processing text. "
   ]
  },
  {
   "cell_type": "code",
   "execution_count": 32,
   "metadata": {
    "executionInfo": {
     "elapsed": 207,
     "status": "ok",
     "timestamp": 1626609494019,
     "user": {
      "displayName": "Tibor Kiss",
      "photoUrl": "https://lh3.googleusercontent.com/a-/AOh14GiPSg5fleSw-fceFqlW-2pkhpiqIn30S1zCZOZM8w=s64",
      "userId": "10453339191915093220"
     },
     "user_tz": -120
    },
    "id": "IjK_fjoHqIzT"
   },
   "outputs": [],
   "source": [
    "# Setup train, validation, test configs\n",
    "with open_dict(cfg):    \n",
    "  # Train dataset  (Concatenate train manifest cleaned and dev manifest cleaned)\n",
    "  cfg.train_ds.manifest_filepath = f\"{train_manifest_cleaned},{dev_manifest_cleaned}\"\n",
    "  cfg.train_ds.labels = list(train_dev_set)\n",
    "  cfg.train_ds.normalize_transcripts = False\n",
    "  cfg.train_ds.batch_size = 32\n",
    "  cfg.train_ds.num_workers = 8\n",
    "  cfg.train_ds.pin_memory = True\n",
    "  cfg.train_ds.trim_silence = True\n",
    "\n",
    "  # Validation dataset  (Use test dataset as validation, since we train using train + dev)\n",
    "  cfg.validation_ds.manifest_filepath = test_manifest_cleaned\n",
    "  cfg.validation_ds.labels = list(train_dev_set)\n",
    "  cfg.validation_ds.normalize_transcripts = False\n",
    "  cfg.validation_ds.batch_size = 8\n",
    "  cfg.validation_ds.num_workers = 8\n",
    "  cfg.validation_ds.pin_memory = True\n",
    "  cfg.validation_ds.trim_silence = True"
   ]
  },
  {
   "cell_type": "code",
   "execution_count": 33,
   "metadata": {
    "colab": {
     "base_uri": "https://localhost:8080/",
     "height": 35
    },
    "executionInfo": {
     "elapsed": 202,
     "status": "ok",
     "timestamp": 1626609497883,
     "user": {
      "displayName": "Tibor Kiss",
      "photoUrl": "https://lh3.googleusercontent.com/a-/AOh14GiPSg5fleSw-fceFqlW-2pkhpiqIn30S1zCZOZM8w=s64",
      "userId": "10453339191915093220"
     },
     "user_tz": -120
    },
    "id": "UUxVp9v-p4Cp",
    "outputId": "07c05497-9943-4d98-c42d-4ced21bea79a"
   },
   "outputs": [
    {
     "name": "stdout",
     "output_type": "stream",
     "text": [
      "[NeMo I 2021-07-24 13:46:31 collections:173] Dataset loaded with 92 files totalling 0.08 hours\n",
      "[NeMo I 2021-07-24 13:46:31 collections:174] 0 files were filtered totalling 0.00 hours\n",
      "[NeMo I 2021-07-24 13:46:31 collections:173] Dataset loaded with 24 files totalling 0.02 hours\n",
      "[NeMo I 2021-07-24 13:46:31 collections:174] 0 files were filtered totalling 0.00 hours\n"
     ]
    }
   ],
   "source": [
    "# setup data loaders with new configs\n",
    "char_model.setup_training_data(cfg.train_ds)\n",
    "char_model.setup_multiple_validation_data(cfg.validation_ds)"
   ]
  },
  {
   "cell_type": "markdown",
   "metadata": {
    "id": "E6A24YTPqy1n"
   },
   "source": [
    "### Setting up optimizer and scheduler\n",
    "\n",
    "When fine-tuning character models, it is generally advised to use a lower learning rate and reduced warmup. A reduced learning rate helps preserve the pre-trained weights of the encoder. Since the fine-tuning dataset is generally smaller than the original training dataset, the warmup steps would be far too much for the smaller fine-tuning dataset.\n",
    "\n",
    "-----\n",
    "**Note**: When freezing the encoder, it is possible to use the original learning rate as the model was trained on. The original learning rate can be used because the encoder is frozen, so the learning rate is used only to optimize the decoder. However, a very high learning rate would still destabilize training, even with a frozen encoder."
   ]
  },
  {
   "cell_type": "code",
   "execution_count": 34,
   "metadata": {
    "colab": {
     "base_uri": "https://localhost:8080/"
    },
    "executionInfo": {
     "elapsed": 222,
     "status": "ok",
     "timestamp": 1626609558249,
     "user": {
      "displayName": "Tibor Kiss",
      "photoUrl": "https://lh3.googleusercontent.com/a-/AOh14GiPSg5fleSw-fceFqlW-2pkhpiqIn30S1zCZOZM8w=s64",
      "userId": "10453339191915093220"
     },
     "user_tz": -120
    },
    "id": "quNPOUXPq075",
    "outputId": "57426105-dba8-497f-fd6e-bd2b88a44edc"
   },
   "outputs": [
    {
     "name": "stdout",
     "output_type": "stream",
     "text": [
      "name: novograd\n",
      "lr: 0.01\n",
      "betas:\n",
      "- 0.8\n",
      "- 0.5\n",
      "weight_decay: 0.001\n",
      "sched:\n",
      "  name: CosineAnnealing\n",
      "  warmup_steps: null\n",
      "  warmup_ratio: null\n",
      "  min_lr: 0.0\n",
      "  last_epoch: -1\n",
      "\n"
     ]
    }
   ],
   "source": [
    "# Original optimizer + scheduler\n",
    "print(OmegaConf.to_yaml(char_model.cfg.optim))"
   ]
  },
  {
   "cell_type": "code",
   "execution_count": 35,
   "metadata": {
    "executionInfo": {
     "elapsed": 201,
     "status": "ok",
     "timestamp": 1626609559939,
     "user": {
      "displayName": "Tibor Kiss",
      "photoUrl": "https://lh3.googleusercontent.com/a-/AOh14GiPSg5fleSw-fceFqlW-2pkhpiqIn30S1zCZOZM8w=s64",
      "userId": "10453339191915093220"
     },
     "user_tz": -120
    },
    "id": "Z7mZTax4q4bH"
   },
   "outputs": [],
   "source": [
    "with open_dict(char_model.cfg.optim):\n",
    "  char_model.cfg.optim.lr = 0.01\n",
    "  char_model.cfg.optim.betas = [0.95, 0.5]  # from paper\n",
    "  char_model.cfg.optim.weight_decay = 0.001  # Original weight decay\n",
    "  char_model.cfg.optim.sched.warmup_steps = None  # Remove default number of steps of warmup\n",
    "  char_model.cfg.optim.sched.warmup_ratio = 0.05  # 5 % warmup\n",
    "  char_model.cfg.optim.sched.min_lr = 1e-5"
   ]
  },
  {
   "cell_type": "markdown",
   "metadata": {
    "id": "RbXwNTq2rHTe"
   },
   "source": [
    "### Setting up augmentation\n",
    "\n",
    "Remember that the model was trained on several thousands of hours of data, so the regularization provided to it might not suit the current dataset. We can easily change it as we see fit.\n",
    "\n",
    "-----\n",
    "\n",
    "You might notice that we utilize `char_model.from_config_dict()` to create a new SpectrogramAugmentation object and assign it directly in place of the previous augmentation. This is generally the syntax to be followed whenever you notice a `_target_` tag in the config of a model's inner config. \n",
    "\n",
    "-----\n",
    "**Note**: For low resource languages, it might be better to increase augmentation via SpecAugment to reduce overfitting. However, this might, in turn, make it too hard for the model to train in a short number of epochs."
   ]
  },
  {
   "cell_type": "code",
   "execution_count": 36,
   "metadata": {
    "colab": {
     "base_uri": "https://localhost:8080/"
    },
    "executionInfo": {
     "elapsed": 189,
     "status": "ok",
     "timestamp": 1626609565793,
     "user": {
      "displayName": "Tibor Kiss",
      "photoUrl": "https://lh3.googleusercontent.com/a-/AOh14GiPSg5fleSw-fceFqlW-2pkhpiqIn30S1zCZOZM8w=s64",
      "userId": "10453339191915093220"
     },
     "user_tz": -120
    },
    "id": "O_OOcIEFrIDV",
    "outputId": "b5432f81-a451-4687-a07c-b16c1e1f4d52"
   },
   "outputs": [
    {
     "name": "stdout",
     "output_type": "stream",
     "text": [
      "_target_: nemo.collections.asr.modules.SpectrogramAugmentation\n",
      "rect_freq: 50\n",
      "rect_masks: 5\n",
      "rect_time: 120\n",
      "\n"
     ]
    }
   ],
   "source": [
    "print(OmegaConf.to_yaml(char_model.cfg.spec_augment))"
   ]
  },
  {
   "cell_type": "code",
   "execution_count": 37,
   "metadata": {
    "executionInfo": {
     "elapsed": 214,
     "status": "ok",
     "timestamp": 1626609570342,
     "user": {
      "displayName": "Tibor Kiss",
      "photoUrl": "https://lh3.googleusercontent.com/a-/AOh14GiPSg5fleSw-fceFqlW-2pkhpiqIn30S1zCZOZM8w=s64",
      "userId": "10453339191915093220"
     },
     "user_tz": -120
    },
    "id": "lHbQ1IIIrOxU"
   },
   "outputs": [],
   "source": [
    "# with open_dict(char_model.cfg.spec_augment):\n",
    "#   char_model.cfg.spec_augment.freq_masks = 2\n",
    "#   char_model.cfg.spec_augment.freq_width = 25\n",
    "#   char_model.cfg.spec_augment.time_masks = 2\n",
    "#   char_model.cfg.spec_augment.time_width = 0.05\n",
    "\n",
    "char_model.spec_augmentation = char_model.from_config_dict(char_model.cfg.spec_augment)"
   ]
  },
  {
   "cell_type": "markdown",
   "metadata": {
    "id": "X8o8huTQrazb"
   },
   "source": [
    "## Setup Metrics\n",
    "\n",
    "Originally, the model was trained on an English dataset corpus. When calculating Word Error Rate, we can easily use the \"space\" token as a separator for word boundaries. On the other hand, certain languages such as Japanese and Mandarin do not use \"space\" tokens, instead opting for different ways to annotate the end of the word.\n",
    "\n",
    "In cases where the \"space\" token is not used to denote a word boundary, we can use the Character Error Rate metric instead, which computes the edit distance at a token level rather than a word level.\n",
    "\n",
    "We might also be interested in noting model predictions during training and inference. As such, we can enable logging of the predictions."
   ]
  },
  {
   "cell_type": "code",
   "execution_count": 38,
   "metadata": {
    "executionInfo": {
     "elapsed": 214,
     "status": "ok",
     "timestamp": 1626609574262,
     "user": {
      "displayName": "Tibor Kiss",
      "photoUrl": "https://lh3.googleusercontent.com/a-/AOh14GiPSg5fleSw-fceFqlW-2pkhpiqIn30S1zCZOZM8w=s64",
      "userId": "10453339191915093220"
     },
     "user_tz": -120
    },
    "id": "H7nPHlvhreJt"
   },
   "outputs": [],
   "source": [
    "#@title Metric\n",
    "use_cer = True #@param [\"False\", \"True\"] {type:\"raw\"}\n",
    "log_prediction = True #@param [\"False\", \"True\"] {type:\"raw\"}\n"
   ]
  },
  {
   "cell_type": "code",
   "execution_count": 39,
   "metadata": {
    "executionInfo": {
     "elapsed": 2,
     "status": "ok",
     "timestamp": 1626609574985,
     "user": {
      "displayName": "Tibor Kiss",
      "photoUrl": "https://lh3.googleusercontent.com/a-/AOh14GiPSg5fleSw-fceFqlW-2pkhpiqIn30S1zCZOZM8w=s64",
      "userId": "10453339191915093220"
     },
     "user_tz": -120
    },
    "id": "z9WpmN15rjxe"
   },
   "outputs": [],
   "source": [
    "char_model._wer.use_cer = use_cer\n",
    "char_model._wer.log_prediction = log_prediction"
   ]
  },
  {
   "cell_type": "markdown",
   "metadata": {
    "id": "FT1M7T9LrsZ7"
   },
   "source": [
    "## Setup Trainer and Experiment Manager\n",
    "\n",
    "And that's it! Now we can train the model by simply using the Pytorch Lightning Trainer and NeMo Experiment Manager as always.\n",
    "\n",
    "For demonstration purposes, the number of epochs is kept intentionally low. Reasonable results can be obtained in around 100 epochs (approximately 25 minutes on Colab GPUs)."
   ]
  },
  {
   "cell_type": "code",
   "execution_count": 40,
   "metadata": {
    "colab": {
     "base_uri": "https://localhost:8080/"
    },
    "executionInfo": {
     "elapsed": 192,
     "status": "ok",
     "timestamp": 1626609578164,
     "user": {
      "displayName": "Tibor Kiss",
      "photoUrl": "https://lh3.googleusercontent.com/a-/AOh14GiPSg5fleSw-fceFqlW-2pkhpiqIn30S1zCZOZM8w=s64",
      "userId": "10453339191915093220"
     },
     "user_tz": -120
    },
    "id": "SH-5CfQFrwF5",
    "outputId": "b92b8e33-0eca-43e7-f9a5-2ea6fecd7d87"
   },
   "outputs": [
    {
     "name": "stderr",
     "output_type": "stream",
     "text": [
      "GPU available: True, used: True\n",
      "TPU available: False, using: 0 TPU cores\n"
     ]
    }
   ],
   "source": [
    "import torch\n",
    "import pytorch_lightning as ptl\n",
    "\n",
    "if torch.cuda.is_available():\n",
    "  gpus = 1\n",
    "else:\n",
    "  gpus = 0\n",
    "\n",
    "EPOCHS = 100  # 100 epochs would provide better results, but would take an hour to train\n",
    "\n",
    "trainer = ptl.Trainer(gpus=gpus, \n",
    "                      max_epochs=EPOCHS, \n",
    "                      accumulate_grad_batches=1,\n",
    "                      checkpoint_callback=False,\n",
    "                      logger=False,\n",
    "                      log_every_n_steps=5,\n",
    "                      check_val_every_n_epoch=10)\n",
    "\n",
    "# Setup model with the trainer\n",
    "char_model.set_trainer(trainer)\n",
    "\n",
    "# Finally, update the model's internal config\n",
    "char_model.cfg = char_model._cfg"
   ]
  },
  {
   "cell_type": "code",
   "execution_count": 41,
   "metadata": {
    "colab": {
     "base_uri": "https://localhost:8080/"
    },
    "executionInfo": {
     "elapsed": 188,
     "status": "ok",
     "timestamp": 1626609582520,
     "user": {
      "displayName": "Tibor Kiss",
      "photoUrl": "https://lh3.googleusercontent.com/a-/AOh14GiPSg5fleSw-fceFqlW-2pkhpiqIn30S1zCZOZM8w=s64",
      "userId": "10453339191915093220"
     },
     "user_tz": -120
    },
    "id": "mNINsASrr3Lw",
    "outputId": "716d6bdf-a306-43b9-9c2e-7c7469cfa051"
   },
   "outputs": [
    {
     "name": "stdout",
     "output_type": "stream",
     "text": [
      "[NeMo I 2021-07-24 13:46:42 exp_manager:217] Experiments will be logged at experiments/lang-En/ASR-Char-Model-Language-En/2021-07-24_13-46-42\n",
      "[NeMo I 2021-07-24 13:46:42 exp_manager:564] TensorboardLogger has been set up\n"
     ]
    },
    {
     "name": "stderr",
     "output_type": "stream",
     "text": [
      "[NeMo W 2021-07-24 13:46:42 nemo_logging:349] /home/tibor/venv/pt18cuda/lib/python3.8/site-packages/pytorch_lightning/callbacks/model_checkpoint.py:396: LightningDeprecationWarning: Argument `period` in `ModelCheckpoint` is deprecated in v1.3 and will be removed in v1.5. Please use `every_n_val_epochs` instead.\n",
      "      rank_zero_deprecation(\n",
      "    \n"
     ]
    }
   ],
   "source": [
    "# Environment variable generally used for multi-node multi-gpu training.\n",
    "# In notebook environments, this flag is unnecessary and can cause logs of multiple training runs to overwrite each other.\n",
    "os.environ.pop('NEMO_EXPM_VERSION', None)\n",
    "LANGUAGE = \"En\"\n",
    "config = exp_manager.ExpManagerConfig(\n",
    "    exp_dir=f'experiments/lang-{LANGUAGE}/',\n",
    "    name=f\"ASR-Char-Model-Language-{LANGUAGE}\",\n",
    "    checkpoint_callback_params=exp_manager.CallbackParams(\n",
    "        monitor=\"val_wer\",\n",
    "        mode=\"min\",\n",
    "        always_save_nemo=True,\n",
    "        save_best_model=True,\n",
    "    ),\n",
    ")\n",
    "\n",
    "config = OmegaConf.structured(config)\n",
    "\n",
    "logdir = exp_manager.exp_manager(trainer, config)"
   ]
  },
  {
   "cell_type": "code",
   "execution_count": 42,
   "metadata": {
    "colab": {
     "base_uri": "https://localhost:8080/",
     "height": 442
    },
    "executionInfo": {
     "elapsed": 2721,
     "status": "ok",
     "timestamp": 1626596174400,
     "user": {
      "displayName": "Tibor Kiss",
      "photoUrl": "https://lh3.googleusercontent.com/a-/AOh14GiPSg5fleSw-fceFqlW-2pkhpiqIn30S1zCZOZM8w=s64",
      "userId": "10453339191915093220"
     },
     "user_tz": -120
    },
    "id": "AeWlBJXlr9A4",
    "outputId": "bdc1cd0c-bec6-4334-991c-0fc03b9131e5"
   },
   "outputs": [
    {
     "name": "stdout",
     "output_type": "stream",
     "text": [
      "To use tensorboard, please use this notebook in a Google Colab environment.\n"
     ]
    }
   ],
   "source": [
    "try:\n",
    "  from google import colab\n",
    "  COLAB_ENV = True\n",
    "except (ImportError, ModuleNotFoundError):\n",
    "  COLAB_ENV = False\n",
    "\n",
    "# Load the TensorBoard notebook extension\n",
    "if COLAB_ENV:\n",
    "  %load_ext tensorboard\n",
    "  %tensorboard --logdir /content/experiments/lang-$LANGUAGE/ASR-Char-Model-Language-$LANGUAGE/\n",
    "else:\n",
    "  print(\"To use tensorboard, please use this notebook in a Google Colab environment.\")"
   ]
  },
  {
   "cell_type": "code",
   "execution_count": 43,
   "metadata": {
    "colab": {
     "base_uri": "https://localhost:8080/",
     "height": 1000,
     "referenced_widgets": [
      "177db0f3f1ca4e7d8876bcf537db2244",
      "30e2288309d243c0b76a7117353cd8d5",
      "ea18826df83848c6b7dde7ce76bc7644",
      "9f08978d13a64d7ca1c00b498c8d4760",
      "cbc8e2ef50e24734afc321010b475345",
      "df42000f46eb4144aebbd70730cd98cb",
      "4f3c1357f9924546bb9d530efcbb42b5",
      "1392be0a152c4634b93b3f92b8e7b923",
      "de26602b33e34c51aff9506b03207295",
      "d4b44dc6c73b4efd9110a65e5ee2331d",
      "1c1a4292650e47bbbb0a29d37fb327c8",
      "89d776c2769748a1bbfe86aa03fec573",
      "a45a9460cc8a4dd7bd04891de6146362",
      "d5fb3239cdc847d58c0528db63415f8e",
      "c4b591977ee14893b712bb0b97de7d16",
      "0589e2ee759f44aba84bd6c587d35348"
     ]
    },
    "executionInfo": {
     "elapsed": 1399,
     "status": "error",
     "timestamp": 1626609590006,
     "user": {
      "displayName": "Tibor Kiss",
      "photoUrl": "https://lh3.googleusercontent.com/a-/AOh14GiPSg5fleSw-fceFqlW-2pkhpiqIn30S1zCZOZM8w=s64",
      "userId": "10453339191915093220"
     },
     "user_tz": -120
    },
    "id": "AF_8m0BcsEe_",
    "outputId": "0ef67960-2729-489d-af97-dba1f11f24cb"
   },
   "outputs": [
    {
     "name": "stderr",
     "output_type": "stream",
     "text": [
      "LOCAL_RANK: 0 - CUDA_VISIBLE_DEVICES: [0]\n"
     ]
    },
    {
     "name": "stdout",
     "output_type": "stream",
     "text": [
      "[NeMo I 2021-07-24 13:46:48 modelPT:751] Optimizer config = Novograd (\n",
      "    Parameter Group 0\n",
      "        amsgrad: False\n",
      "        betas: [0.95, 0.5]\n",
      "        eps: 1e-08\n",
      "        grad_averaging: False\n",
      "        lr: 0.01\n",
      "        weight_decay: 0.001\n",
      "    )\n",
      "[NeMo I 2021-07-24 13:46:48 lr_scheduler:621] Scheduler \"<nemo.core.optim.lr_scheduler.CosineAnnealing object at 0x7f56204e7820>\" \n",
      "    will be used during training (effective maximum steps = 300) - \n",
      "    Parameters : \n",
      "    (warmup_steps: null\n",
      "    warmup_ratio: 0.05\n",
      "    min_lr: 1.0e-05\n",
      "    last_epoch: -1\n",
      "    max_steps: 300\n",
      "    )\n"
     ]
    },
    {
     "name": "stderr",
     "output_type": "stream",
     "text": [
      "\n",
      "  | Name              | Type                              | Params\n",
      "------------------------------------------------------------------------\n",
      "0 | preprocessor      | AudioToMelSpectrogramPreprocessor | 0     \n",
      "1 | encoder           | ConvASREncoder                    | 18.9 M\n",
      "2 | spec_augmentation | SpectrogramAugmentation           | 0     \n",
      "3 | _wer              | WER                               | 0     \n",
      "4 | decoder           | ConvASRDecoder                    | 26.7 K\n",
      "5 | loss              | CTCLoss                           | 0     \n",
      "------------------------------------------------------------------------\n",
      "103 K     Trainable params\n",
      "18.8 M    Non-trainable params\n",
      "18.9 M    Total params\n",
      "75.685    Total estimated model params size (MB)\n"
     ]
    },
    {
     "data": {
      "application/vnd.jupyter.widget-view+json": {
       "model_id": "",
       "version_major": 2,
       "version_minor": 0
      },
      "text/plain": [
       "Validation sanity check: 0it [00:00, ?it/s]"
      ]
     },
     "metadata": {},
     "output_type": "display_data"
    },
    {
     "name": "stderr",
     "output_type": "stream",
     "text": [
      "[NeMo W 2021-07-24 13:46:48 patch_utils:49] torch.stft() signature has been updated for PyTorch 1.7+\n",
      "    Please update PyTorch to remain compatible with later versions of NeMo.\n"
     ]
    },
    {
     "name": "stdout",
     "output_type": "stream",
     "text": [
      "[NeMo I 2021-07-24 13:46:48 wer:225] \n",
      "    \n",
      "[NeMo I 2021-07-24 13:46:48 wer:226] reference:give me a round bass\n",
      "[NeMo I 2021-07-24 13:46:48 wer:227] predicted:z izwnzcnhn uzd hwhnawfnhculugnzhuhqayzltyhb\n",
      "[NeMo I 2021-07-24 13:46:48 wer:225] \n",
      "    \n",
      "[NeMo I 2021-07-24 13:46:48 wer:226] reference:i would like a sharp cello\n",
      "[NeMo I 2021-07-24 13:46:48 wer:227] predicted:zhzhahwfainbu dzlfgnzhnuhqazpqwcnzhfqililfuhufhugal lqanwalcldcdcahwcahan\n"
     ]
    },
    {
     "data": {
      "application/vnd.jupyter.widget-view+json": {
       "model_id": "e7bfa81d7b804f8da1691713a5903068",
       "version_major": 2,
       "version_minor": 0
      },
      "text/plain": [
       "Training: 0it [00:00, ?it/s]"
      ]
     },
     "metadata": {},
     "output_type": "display_data"
    },
    {
     "data": {
      "application/vnd.jupyter.widget-view+json": {
       "model_id": "",
       "version_major": 2,
       "version_minor": 0
      },
      "text/plain": [
       "Validating: 0it [00:00, ?it/s]"
      ]
     },
     "metadata": {},
     "output_type": "display_data"
    },
    {
     "name": "stdout",
     "output_type": "stream",
     "text": [
      "[NeMo I 2021-07-24 13:46:58 wer:225] \n",
      "    \n",
      "[NeMo I 2021-07-24 13:46:58 wer:226] reference:give me a round bass\n",
      "[NeMo I 2021-07-24 13:46:58 wer:227] predicted:egeememieieaeim\n",
      "[NeMo I 2021-07-24 13:46:59 wer:225] \n",
      "    \n",
      "[NeMo I 2021-07-24 13:46:59 wer:226] reference:i would like a sharp cello\n",
      "[NeMo I 2021-07-24 13:46:59 wer:227] predicted:miigeieaiaeaiiae iemaemae \n",
      "[NeMo I 2021-07-24 13:46:59 wer:225] \n",
      "    \n",
      "[NeMo I 2021-07-24 13:46:59 wer:226] reference:give me a mono warm round synthesizer bass\n",
      "[NeMo I 2021-07-24 13:46:59 wer:227] predicted:eiermemem memaeimeim maemimema maeiae aemae asme\n"
     ]
    },
    {
     "name": "stderr",
     "output_type": "stream",
     "text": [
      "Epoch 9, global step 29: val_wer reached 0.80303 (best 0.80303), saving model to \"/home/tibor/asr/project_common/rg_speech_to_text/notebooks/experiments/lang-En/ASR-Char-Model-Language-En/2021-07-24_13-46-42/checkpoints/ASR-Char-Model-Language-En--val_wer=0.80-epoch=9.ckpt\" as top 3\n"
     ]
    },
    {
     "data": {
      "application/vnd.jupyter.widget-view+json": {
       "model_id": "",
       "version_major": 2,
       "version_minor": 0
      },
      "text/plain": [
       "Validating: 0it [00:00, ?it/s]"
      ]
     },
     "metadata": {},
     "output_type": "display_data"
    },
    {
     "name": "stdout",
     "output_type": "stream",
     "text": [
      "[NeMo I 2021-07-24 13:47:11 wer:225] \n",
      "    \n",
      "[NeMo I 2021-07-24 13:47:11 wer:226] reference:give me a round bass\n",
      "[NeMo I 2021-07-24 13:47:11 wer:227] predicted:ge me  a  \n",
      "[NeMo I 2021-07-24 13:47:11 wer:225] \n",
      "    \n",
      "[NeMo I 2021-07-24 13:47:11 wer:226] reference:i would like a sharp cello\n",
      "[NeMo I 2021-07-24 13:47:11 wer:227] predicted:eme   \n",
      "[NeMo I 2021-07-24 13:47:12 wer:225] \n",
      "    \n",
      "[NeMo I 2021-07-24 13:47:12 wer:226] reference:give me a mono warm round synthesizer bass\n",
      "[NeMo I 2021-07-24 13:47:12 wer:227] predicted:g me aa a e    \n"
     ]
    },
    {
     "name": "stderr",
     "output_type": "stream",
     "text": [
      "Epoch 19, global step 59: val_wer reached 0.74242 (best 0.74242), saving model to \"/home/tibor/asr/project_common/rg_speech_to_text/notebooks/experiments/lang-En/ASR-Char-Model-Language-En/2021-07-24_13-46-42/checkpoints/ASR-Char-Model-Language-En--val_wer=0.74-epoch=19.ckpt\" as top 3\n"
     ]
    },
    {
     "data": {
      "application/vnd.jupyter.widget-view+json": {
       "model_id": "",
       "version_major": 2,
       "version_minor": 0
      },
      "text/plain": [
       "Validating: 0it [00:00, ?it/s]"
      ]
     },
     "metadata": {},
     "output_type": "display_data"
    },
    {
     "name": "stdout",
     "output_type": "stream",
     "text": [
      "[NeMo I 2021-07-24 13:47:25 wer:225] \n",
      "    \n",
      "[NeMo I 2021-07-24 13:47:25 wer:226] reference:give me a round bass\n",
      "[NeMo I 2021-07-24 13:47:25 wer:227] predicted:gie me m a n \n",
      "[NeMo I 2021-07-24 13:47:25 wer:225] \n",
      "    \n",
      "[NeMo I 2021-07-24 13:47:25 wer:226] reference:i would like a sharp cello\n",
      "[NeMo I 2021-07-24 13:47:25 wer:227] predicted:e \n",
      "[NeMo I 2021-07-24 13:47:25 wer:225] \n",
      "    \n",
      "[NeMo I 2021-07-24 13:47:25 wer:226] reference:give me a mono warm round synthesizer bass\n",
      "[NeMo I 2021-07-24 13:47:25 wer:227] predicted:give me ae a     \n"
     ]
    },
    {
     "name": "stderr",
     "output_type": "stream",
     "text": [
      "Epoch 29, global step 89: val_wer reached 0.70455 (best 0.70455), saving model to \"/home/tibor/asr/project_common/rg_speech_to_text/notebooks/experiments/lang-En/ASR-Char-Model-Language-En/2021-07-24_13-46-42/checkpoints/ASR-Char-Model-Language-En--val_wer=0.70-epoch=29.ckpt\" as top 3\n"
     ]
    },
    {
     "data": {
      "application/vnd.jupyter.widget-view+json": {
       "model_id": "",
       "version_major": 2,
       "version_minor": 0
      },
      "text/plain": [
       "Validating: 0it [00:00, ?it/s]"
      ]
     },
     "metadata": {},
     "output_type": "display_data"
    },
    {
     "name": "stdout",
     "output_type": "stream",
     "text": [
      "[NeMo I 2021-07-24 13:47:38 wer:225] \n",
      "    \n",
      "[NeMo I 2021-07-24 13:47:38 wer:226] reference:give me a round bass\n",
      "[NeMo I 2021-07-24 13:47:38 wer:227] predicted:give me a a \n",
      "[NeMo I 2021-07-24 13:47:38 wer:225] \n",
      "    \n",
      "[NeMo I 2021-07-24 13:47:38 wer:226] reference:i would like a sharp cello\n",
      "[NeMo I 2021-07-24 13:47:38 wer:227] predicted:aae ne ine a   \n",
      "[NeMo I 2021-07-24 13:47:38 wer:225] \n",
      "    \n",
      "[NeMo I 2021-07-24 13:47:38 wer:226] reference:give me a mono warm round synthesizer bass\n",
      "[NeMo I 2021-07-24 13:47:38 wer:227] predicted:gie me a ne ne n e  \n"
     ]
    },
    {
     "name": "stderr",
     "output_type": "stream",
     "text": [
      "Epoch 39, global step 119: val_wer reached 0.60909 (best 0.60909), saving model to \"/home/tibor/asr/project_common/rg_speech_to_text/notebooks/experiments/lang-En/ASR-Char-Model-Language-En/2021-07-24_13-46-42/checkpoints/ASR-Char-Model-Language-En--val_wer=0.61-epoch=39.ckpt\" as top 3\n"
     ]
    },
    {
     "data": {
      "application/vnd.jupyter.widget-view+json": {
       "model_id": "",
       "version_major": 2,
       "version_minor": 0
      },
      "text/plain": [
       "Validating: 0it [00:00, ?it/s]"
      ]
     },
     "metadata": {},
     "output_type": "display_data"
    },
    {
     "name": "stdout",
     "output_type": "stream",
     "text": [
      "[NeMo I 2021-07-24 13:47:51 wer:225] \n",
      "    \n",
      "[NeMo I 2021-07-24 13:47:51 wer:226] reference:give me a round bass\n",
      "[NeMo I 2021-07-24 13:47:51 wer:227] predicted:give e a  \n",
      "[NeMo I 2021-07-24 13:47:51 wer:225] \n",
      "    \n",
      "[NeMo I 2021-07-24 13:47:51 wer:226] reference:i would like a sharp cello\n",
      "[NeMo I 2021-07-24 13:47:51 wer:227] predicted:  a n \n",
      "[NeMo I 2021-07-24 13:47:52 wer:225] \n",
      "    \n",
      "[NeMo I 2021-07-24 13:47:52 wer:226] reference:give me a mono warm round synthesizer bass\n",
      "[NeMo I 2021-07-24 13:47:52 wer:227] predicted:give me a ne n \n"
     ]
    },
    {
     "name": "stderr",
     "output_type": "stream",
     "text": [
      "Epoch 49, global step 149: val_wer reached 0.66515 (best 0.60909), saving model to \"/home/tibor/asr/project_common/rg_speech_to_text/notebooks/experiments/lang-En/ASR-Char-Model-Language-En/2021-07-24_13-46-42/checkpoints/ASR-Char-Model-Language-En--val_wer=0.67-epoch=49.ckpt\" as top 3\n"
     ]
    },
    {
     "data": {
      "application/vnd.jupyter.widget-view+json": {
       "model_id": "",
       "version_major": 2,
       "version_minor": 0
      },
      "text/plain": [
       "Validating: 0it [00:00, ?it/s]"
      ]
     },
     "metadata": {},
     "output_type": "display_data"
    },
    {
     "name": "stdout",
     "output_type": "stream",
     "text": [
      "[NeMo I 2021-07-24 13:48:08 wer:225] \n",
      "    \n",
      "[NeMo I 2021-07-24 13:48:08 wer:226] reference:give me a round bass\n",
      "[NeMo I 2021-07-24 13:48:08 wer:227] predicted:give me a a \n",
      "[NeMo I 2021-07-24 13:48:08 wer:225] \n",
      "    \n",
      "[NeMo I 2021-07-24 13:48:08 wer:226] reference:i would like a sharp cello\n",
      "[NeMo I 2021-07-24 13:48:08 wer:227] predicted: ane in\n",
      "[NeMo I 2021-07-24 13:48:08 wer:225] \n",
      "    \n",
      "[NeMo I 2021-07-24 13:48:08 wer:226] reference:give me a mono warm round synthesizer bass\n",
      "[NeMo I 2021-07-24 13:48:08 wer:227] predicted:give me a ne e ne  n \n"
     ]
    },
    {
     "name": "stderr",
     "output_type": "stream",
     "text": [
      "Epoch 59, global step 179: val_wer reached 0.61212 (best 0.60909), saving model to \"/home/tibor/asr/project_common/rg_speech_to_text/notebooks/experiments/lang-En/ASR-Char-Model-Language-En/2021-07-24_13-46-42/checkpoints/ASR-Char-Model-Language-En--val_wer=0.61-epoch=59.ckpt\" as top 3\n"
     ]
    },
    {
     "data": {
      "application/vnd.jupyter.widget-view+json": {
       "model_id": "",
       "version_major": 2,
       "version_minor": 0
      },
      "text/plain": [
       "Validating: 0it [00:00, ?it/s]"
      ]
     },
     "metadata": {},
     "output_type": "display_data"
    },
    {
     "name": "stdout",
     "output_type": "stream",
     "text": [
      "[NeMo I 2021-07-24 13:48:24 wer:225] \n",
      "    \n",
      "[NeMo I 2021-07-24 13:48:24 wer:226] reference:give me a round bass\n",
      "[NeMo I 2021-07-24 13:48:24 wer:227] predicted:give me a s\n",
      "[NeMo I 2021-07-24 13:48:24 wer:225] \n",
      "    \n",
      "[NeMo I 2021-07-24 13:48:24 wer:226] reference:i would like a sharp cello\n",
      "[NeMo I 2021-07-24 13:48:24 wer:227] predicted:n ine  n in\n",
      "[NeMo I 2021-07-24 13:48:24 wer:225] \n",
      "    \n",
      "[NeMo I 2021-07-24 13:48:24 wer:226] reference:give me a mono warm round synthesizer bass\n",
      "[NeMo I 2021-07-24 13:48:24 wer:227] predicted:give me a mene ne ne n n n t\n"
     ]
    },
    {
     "name": "stderr",
     "output_type": "stream",
     "text": [
      "Epoch 69, global step 209: val_wer reached 0.57576 (best 0.57576), saving model to \"/home/tibor/asr/project_common/rg_speech_to_text/notebooks/experiments/lang-En/ASR-Char-Model-Language-En/2021-07-24_13-46-42/checkpoints/ASR-Char-Model-Language-En--val_wer=0.58-epoch=69.ckpt\" as top 3\n"
     ]
    },
    {
     "data": {
      "application/vnd.jupyter.widget-view+json": {
       "model_id": "",
       "version_major": 2,
       "version_minor": 0
      },
      "text/plain": [
       "Validating: 0it [00:00, ?it/s]"
      ]
     },
     "metadata": {},
     "output_type": "display_data"
    },
    {
     "name": "stdout",
     "output_type": "stream",
     "text": [
      "[NeMo I 2021-07-24 13:48:37 wer:225] \n",
      "    \n",
      "[NeMo I 2021-07-24 13:48:37 wer:226] reference:give me a round bass\n",
      "[NeMo I 2021-07-24 13:48:37 wer:227] predicted:give me a r s\n",
      "[NeMo I 2021-07-24 13:48:37 wer:225] \n",
      "    \n",
      "[NeMo I 2021-07-24 13:48:37 wer:226] reference:i would like a sharp cello\n",
      "[NeMo I 2021-07-24 13:48:37 wer:227] predicted:n   in\n",
      "[NeMo I 2021-07-24 13:48:37 wer:225] \n",
      "    \n",
      "[NeMo I 2021-07-24 13:48:37 wer:226] reference:give me a mono warm round synthesizer bass\n",
      "[NeMo I 2021-07-24 13:48:37 wer:227] predicted:give me a rene ne n  n  s\n"
     ]
    },
    {
     "name": "stderr",
     "output_type": "stream",
     "text": [
      "Epoch 79, global step 239: val_wer reached 0.57879 (best 0.57576), saving model to \"/home/tibor/asr/project_common/rg_speech_to_text/notebooks/experiments/lang-En/ASR-Char-Model-Language-En/2021-07-24_13-46-42/checkpoints/ASR-Char-Model-Language-En--val_wer=0.58-epoch=79.ckpt\" as top 3\n"
     ]
    },
    {
     "data": {
      "application/vnd.jupyter.widget-view+json": {
       "model_id": "",
       "version_major": 2,
       "version_minor": 0
      },
      "text/plain": [
       "Validating: 0it [00:00, ?it/s]"
      ]
     },
     "metadata": {},
     "output_type": "display_data"
    },
    {
     "name": "stdout",
     "output_type": "stream",
     "text": [
      "[NeMo I 2021-07-24 13:48:53 wer:225] \n",
      "    \n",
      "[NeMo I 2021-07-24 13:48:53 wer:226] reference:give me a round bass\n",
      "[NeMo I 2021-07-24 13:48:53 wer:227] predicted:give me a s\n",
      "[NeMo I 2021-07-24 13:48:54 wer:225] \n",
      "    \n",
      "[NeMo I 2021-07-24 13:48:54 wer:226] reference:i would like a sharp cello\n",
      "[NeMo I 2021-07-24 13:48:54 wer:227] predicted: ne ain\n",
      "[NeMo I 2021-07-24 13:48:54 wer:225] \n",
      "    \n",
      "[NeMo I 2021-07-24 13:48:54 wer:226] reference:give me a mono warm round synthesizer bass\n",
      "[NeMo I 2021-07-24 13:48:54 wer:227] predicted:give me a mene ne n n n  s\n"
     ]
    },
    {
     "name": "stderr",
     "output_type": "stream",
     "text": [
      "Epoch 89, global step 269: val_wer reached 0.57273 (best 0.57273), saving model to \"/home/tibor/asr/project_common/rg_speech_to_text/notebooks/experiments/lang-En/ASR-Char-Model-Language-En/2021-07-24_13-46-42/checkpoints/ASR-Char-Model-Language-En--val_wer=0.57-epoch=89.ckpt\" as top 3\n"
     ]
    },
    {
     "data": {
      "application/vnd.jupyter.widget-view+json": {
       "model_id": "",
       "version_major": 2,
       "version_minor": 0
      },
      "text/plain": [
       "Validating: 0it [00:00, ?it/s]"
      ]
     },
     "metadata": {},
     "output_type": "display_data"
    },
    {
     "name": "stdout",
     "output_type": "stream",
     "text": [
      "[NeMo I 2021-07-24 13:49:07 wer:225] \n",
      "    \n",
      "[NeMo I 2021-07-24 13:49:07 wer:226] reference:give me a round bass\n",
      "[NeMo I 2021-07-24 13:49:07 wer:227] predicted:give me a r s\n",
      "[NeMo I 2021-07-24 13:49:07 wer:225] \n",
      "    \n",
      "[NeMo I 2021-07-24 13:49:07 wer:226] reference:i would like a sharp cello\n",
      "[NeMo I 2021-07-24 13:49:07 wer:227] predicted: ne ain\n",
      "[NeMo I 2021-07-24 13:49:07 wer:225] \n",
      "    \n",
      "[NeMo I 2021-07-24 13:49:07 wer:226] reference:give me a mono warm round synthesizer bass\n",
      "[NeMo I 2021-07-24 13:49:07 wer:227] predicted:give me a mene ne n n n  s\n"
     ]
    },
    {
     "name": "stderr",
     "output_type": "stream",
     "text": [
      "Epoch 99, global step 299: val_wer reached 0.56970 (best 0.56970), saving model to \"/home/tibor/asr/project_common/rg_speech_to_text/notebooks/experiments/lang-En/ASR-Char-Model-Language-En/2021-07-24_13-46-42/checkpoints/ASR-Char-Model-Language-En--val_wer=0.57-epoch=99.ckpt\" as top 3\n",
      "Saving latest checkpoint...\n",
      "[NeMo W 2021-07-24 13:49:10 nemo_logging:349] /home/tibor/venv/pt18cuda/lib/python3.8/site-packages/pytorch_lightning/trainer/deprecated_api.py:59: LightningDeprecationWarning: Internal: `on_gpu` is deprecated in v1.2 and will be removed in v1.4.\n",
      "      rank_zero_deprecation(\"Internal: `on_gpu` is deprecated in v1.2 and will be removed in v1.4.\")\n",
      "    \n",
      "Restored states from the checkpoint file at /home/tibor/asr/project_common/rg_speech_to_text/notebooks/experiments/lang-En/ASR-Char-Model-Language-En/2021-07-24_13-46-42/checkpoints/ASR-Char-Model-Language-En--val_wer=0.57-epoch=99.ckpt\n"
     ]
    },
    {
     "name": "stdout",
     "output_type": "stream",
     "text": [
      "CPU times: user 1min 57s, sys: 28.3 s, total: 2min 25s\n",
      "Wall time: 2min 28s\n"
     ]
    }
   ],
   "source": [
    "%%time\n",
    "trainer.fit(char_model)"
   ]
  },
  {
   "cell_type": "markdown",
   "metadata": {
    "id": "76zntGTNsdFR"
   },
   "source": [
    "## Results\n",
    "\n",
    "Whether you trained for small number of epochs, the character word error rate seems high (even after 100 epochs, CER is close to 45-50% or so on the test set).\n",
    "\n",
    "Considering the limited amount of data available and the extensive vocabulary, this is expected to some degree. Remember that nearly 177 tokens were out of vocabulary in the test set - so those acoustic features can't be adequately captured using just the train set tokens. \n",
    "\n",
    "For reference, AISHELL datasets comprise some few hundred to one thousand hours of Mandarin speech to train roughly 5600 tokens, and those models are generally trained for a very long time on multi GPU setups."
   ]
  },
  {
   "cell_type": "code",
   "execution_count": 44,
   "metadata": {
    "colab": {
     "base_uri": "https://localhost:8080/"
    },
    "executionInfo": {
     "elapsed": 5463,
     "status": "ok",
     "timestamp": 1626597938896,
     "user": {
      "displayName": "Tibor Kiss",
      "photoUrl": "https://lh3.googleusercontent.com/a-/AOh14GiPSg5fleSw-fceFqlW-2pkhpiqIn30S1zCZOZM8w=s64",
      "userId": "10453339191915093220"
     },
     "user_tz": -120
    },
    "id": "ZynZvajGymKQ",
    "outputId": "e657036d-927b-48ad-a375-df6fafe6dc38"
   },
   "outputs": [
    {
     "name": "stdout",
     "output_type": "stream",
     "text": [
      "Model saved at path : /home/tibor/asr/project_common/rg_speech_to_text/notebooks/Model-En.nemo\n"
     ]
    }
   ],
   "source": [
    "save_path = f\"Model-{LANGUAGE}.nemo\"\n",
    "char_model.save_to(f\"{save_path}\")\n",
    "print(f\"Model saved at path : {os.getcwd() + os.path.sep + save_path}\")"
   ]
  },
  {
   "cell_type": "markdown",
   "metadata": {
    "id": "wvXy7aXemP9H"
   },
   "source": [
    "-----"
   ]
  }
 ],
 "metadata": {
  "accelerator": "GPU",
  "colab": {
   "collapsed_sections": [],
   "name": "Finetuning QuartzNet v1.ipynb",
   "provenance": [
    {
     "file_id": "11z9ke2G6sX9EMjct1SLaZIWXyrfKiFe2",
     "timestamp": 1626593335986
    }
   ]
  },
  "kernelspec": {
   "display_name": "Python 3 (ipykernel)",
   "language": "python",
   "name": "python3"
  },
  "language_info": {
   "codemirror_mode": {
    "name": "ipython",
    "version": 3
   },
   "file_extension": ".py",
   "mimetype": "text/x-python",
   "name": "python",
   "nbconvert_exporter": "python",
   "pygments_lexer": "ipython3",
   "version": "3.8.10"
  },
  "widgets": {
   "application/vnd.jupyter.widget-state+json": {
    "0589e2ee759f44aba84bd6c587d35348": {
     "model_module": "@jupyter-widgets/base",
     "model_name": "LayoutModel",
     "state": {
      "_model_module": "@jupyter-widgets/base",
      "_model_module_version": "1.2.0",
      "_model_name": "LayoutModel",
      "_view_count": null,
      "_view_module": "@jupyter-widgets/base",
      "_view_module_version": "1.2.0",
      "_view_name": "LayoutView",
      "align_content": null,
      "align_items": null,
      "align_self": null,
      "border": null,
      "bottom": null,
      "display": null,
      "flex": null,
      "flex_flow": null,
      "grid_area": null,
      "grid_auto_columns": null,
      "grid_auto_flow": null,
      "grid_auto_rows": null,
      "grid_column": null,
      "grid_gap": null,
      "grid_row": null,
      "grid_template_areas": null,
      "grid_template_columns": null,
      "grid_template_rows": null,
      "height": null,
      "justify_content": null,
      "justify_items": null,
      "left": null,
      "margin": null,
      "max_height": null,
      "max_width": null,
      "min_height": null,
      "min_width": null,
      "object_fit": null,
      "object_position": null,
      "order": null,
      "overflow": null,
      "overflow_x": null,
      "overflow_y": null,
      "padding": null,
      "right": null,
      "top": null,
      "visibility": null,
      "width": null
     }
    },
    "1392be0a152c4634b93b3f92b8e7b923": {
     "model_module": "@jupyter-widgets/base",
     "model_name": "LayoutModel",
     "state": {
      "_model_module": "@jupyter-widgets/base",
      "_model_module_version": "1.2.0",
      "_model_name": "LayoutModel",
      "_view_count": null,
      "_view_module": "@jupyter-widgets/base",
      "_view_module_version": "1.2.0",
      "_view_name": "LayoutView",
      "align_content": null,
      "align_items": null,
      "align_self": null,
      "border": null,
      "bottom": null,
      "display": null,
      "flex": null,
      "flex_flow": null,
      "grid_area": null,
      "grid_auto_columns": null,
      "grid_auto_flow": null,
      "grid_auto_rows": null,
      "grid_column": null,
      "grid_gap": null,
      "grid_row": null,
      "grid_template_areas": null,
      "grid_template_columns": null,
      "grid_template_rows": null,
      "height": null,
      "justify_content": null,
      "justify_items": null,
      "left": null,
      "margin": null,
      "max_height": null,
      "max_width": null,
      "min_height": null,
      "min_width": null,
      "object_fit": null,
      "object_position": null,
      "order": null,
      "overflow": null,
      "overflow_x": null,
      "overflow_y": null,
      "padding": null,
      "right": null,
      "top": null,
      "visibility": null,
      "width": null
     }
    },
    "177db0f3f1ca4e7d8876bcf537db2244": {
     "model_module": "@jupyter-widgets/controls",
     "model_name": "HBoxModel",
     "state": {
      "_dom_classes": [],
      "_model_module": "@jupyter-widgets/controls",
      "_model_module_version": "1.5.0",
      "_model_name": "HBoxModel",
      "_view_count": null,
      "_view_module": "@jupyter-widgets/controls",
      "_view_module_version": "1.5.0",
      "_view_name": "HBoxView",
      "box_style": "",
      "children": [
       "IPY_MODEL_ea18826df83848c6b7dde7ce76bc7644",
       "IPY_MODEL_9f08978d13a64d7ca1c00b498c8d4760"
      ],
      "layout": "IPY_MODEL_30e2288309d243c0b76a7117353cd8d5"
     }
    },
    "1c1a4292650e47bbbb0a29d37fb327c8": {
     "model_module": "@jupyter-widgets/controls",
     "model_name": "FloatProgressModel",
     "state": {
      "_dom_classes": [],
      "_model_module": "@jupyter-widgets/controls",
      "_model_module_version": "1.5.0",
      "_model_name": "FloatProgressModel",
      "_view_count": null,
      "_view_module": "@jupyter-widgets/controls",
      "_view_module_version": "1.5.0",
      "_view_name": "ProgressView",
      "bar_style": "info",
      "description": "Epoch 0:   0%",
      "description_tooltip": null,
      "layout": "IPY_MODEL_d5fb3239cdc847d58c0528db63415f8e",
      "max": 4,
      "min": 0,
      "orientation": "horizontal",
      "style": "IPY_MODEL_a45a9460cc8a4dd7bd04891de6146362",
      "value": 0
     }
    },
    "25dd6457d58d4dd9be72eb69413837a9": {
     "model_module": "@jupyter-widgets/controls",
     "model_name": "DescriptionStyleModel",
     "state": {
      "_model_module": "@jupyter-widgets/controls",
      "_model_module_version": "1.5.0",
      "_model_name": "DescriptionStyleModel",
      "_view_count": null,
      "_view_module": "@jupyter-widgets/base",
      "_view_module_version": "1.2.0",
      "_view_name": "StyleView",
      "description_width": ""
     }
    },
    "30e2288309d243c0b76a7117353cd8d5": {
     "model_module": "@jupyter-widgets/base",
     "model_name": "LayoutModel",
     "state": {
      "_model_module": "@jupyter-widgets/base",
      "_model_module_version": "1.2.0",
      "_model_name": "LayoutModel",
      "_view_count": null,
      "_view_module": "@jupyter-widgets/base",
      "_view_module_version": "1.2.0",
      "_view_name": "LayoutView",
      "align_content": null,
      "align_items": null,
      "align_self": null,
      "border": null,
      "bottom": null,
      "display": "inline-flex",
      "flex": null,
      "flex_flow": "row wrap",
      "grid_area": null,
      "grid_auto_columns": null,
      "grid_auto_flow": null,
      "grid_auto_rows": null,
      "grid_column": null,
      "grid_gap": null,
      "grid_row": null,
      "grid_template_areas": null,
      "grid_template_columns": null,
      "grid_template_rows": null,
      "height": null,
      "justify_content": null,
      "justify_items": null,
      "left": null,
      "margin": null,
      "max_height": null,
      "max_width": null,
      "min_height": null,
      "min_width": null,
      "object_fit": null,
      "object_position": null,
      "order": null,
      "overflow": null,
      "overflow_x": null,
      "overflow_y": null,
      "padding": null,
      "right": null,
      "top": null,
      "visibility": null,
      "width": "100%"
     }
    },
    "313b935e884e4ea3a9804d5485efa2ff": {
     "model_module": "@jupyter-widgets/base",
     "model_name": "LayoutModel",
     "state": {
      "_model_module": "@jupyter-widgets/base",
      "_model_module_version": "1.2.0",
      "_model_name": "LayoutModel",
      "_view_count": null,
      "_view_module": "@jupyter-widgets/base",
      "_view_module_version": "1.2.0",
      "_view_name": "LayoutView",
      "align_content": null,
      "align_items": null,
      "align_self": null,
      "border": null,
      "bottom": null,
      "display": null,
      "flex": null,
      "flex_flow": null,
      "grid_area": null,
      "grid_auto_columns": null,
      "grid_auto_flow": null,
      "grid_auto_rows": null,
      "grid_column": null,
      "grid_gap": null,
      "grid_row": null,
      "grid_template_areas": null,
      "grid_template_columns": null,
      "grid_template_rows": null,
      "height": null,
      "justify_content": null,
      "justify_items": null,
      "left": null,
      "margin": null,
      "max_height": null,
      "max_width": null,
      "min_height": null,
      "min_width": null,
      "object_fit": null,
      "object_position": null,
      "order": null,
      "overflow": null,
      "overflow_x": null,
      "overflow_y": null,
      "padding": null,
      "right": null,
      "top": null,
      "visibility": null,
      "width": null
     }
    },
    "326e8d1ea5f84d3b9e12f15c2a422bab": {
     "model_module": "@jupyter-widgets/base",
     "model_name": "LayoutModel",
     "state": {
      "_model_module": "@jupyter-widgets/base",
      "_model_module_version": "1.2.0",
      "_model_name": "LayoutModel",
      "_view_count": null,
      "_view_module": "@jupyter-widgets/base",
      "_view_module_version": "1.2.0",
      "_view_name": "LayoutView",
      "align_content": null,
      "align_items": null,
      "align_self": null,
      "border": null,
      "bottom": null,
      "display": null,
      "flex": null,
      "flex_flow": null,
      "grid_area": null,
      "grid_auto_columns": null,
      "grid_auto_flow": null,
      "grid_auto_rows": null,
      "grid_column": null,
      "grid_gap": null,
      "grid_row": null,
      "grid_template_areas": null,
      "grid_template_columns": null,
      "grid_template_rows": null,
      "height": null,
      "justify_content": null,
      "justify_items": null,
      "left": null,
      "margin": null,
      "max_height": null,
      "max_width": null,
      "min_height": null,
      "min_width": null,
      "object_fit": null,
      "object_position": null,
      "order": null,
      "overflow": null,
      "overflow_x": null,
      "overflow_y": null,
      "padding": null,
      "right": null,
      "top": null,
      "visibility": null,
      "width": null
     }
    },
    "3adc8ae400dc48d58120b4eb90e0ff1f": {
     "model_module": "@jupyter-widgets/base",
     "model_name": "LayoutModel",
     "state": {
      "_model_module": "@jupyter-widgets/base",
      "_model_module_version": "1.2.0",
      "_model_name": "LayoutModel",
      "_view_count": null,
      "_view_module": "@jupyter-widgets/base",
      "_view_module_version": "1.2.0",
      "_view_name": "LayoutView",
      "align_content": null,
      "align_items": null,
      "align_self": null,
      "border": null,
      "bottom": null,
      "display": null,
      "flex": null,
      "flex_flow": null,
      "grid_area": null,
      "grid_auto_columns": null,
      "grid_auto_flow": null,
      "grid_auto_rows": null,
      "grid_column": null,
      "grid_gap": null,
      "grid_row": null,
      "grid_template_areas": null,
      "grid_template_columns": null,
      "grid_template_rows": null,
      "height": null,
      "justify_content": null,
      "justify_items": null,
      "left": null,
      "margin": null,
      "max_height": null,
      "max_width": null,
      "min_height": null,
      "min_width": null,
      "object_fit": null,
      "object_position": null,
      "order": null,
      "overflow": null,
      "overflow_x": null,
      "overflow_y": null,
      "padding": null,
      "right": null,
      "top": null,
      "visibility": null,
      "width": null
     }
    },
    "3bfcfddd4a7a4625891f85792de75f34": {
     "model_module": "@jupyter-widgets/controls",
     "model_name": "DescriptionStyleModel",
     "state": {
      "_model_module": "@jupyter-widgets/controls",
      "_model_module_version": "1.5.0",
      "_model_name": "DescriptionStyleModel",
      "_view_count": null,
      "_view_module": "@jupyter-widgets/base",
      "_view_module_version": "1.2.0",
      "_view_name": "StyleView",
      "description_width": ""
     }
    },
    "4ccd69f93caf4896ba6342ccb8a94d28": {
     "model_module": "@jupyter-widgets/base",
     "model_name": "LayoutModel",
     "state": {
      "_model_module": "@jupyter-widgets/base",
      "_model_module_version": "1.2.0",
      "_model_name": "LayoutModel",
      "_view_count": null,
      "_view_module": "@jupyter-widgets/base",
      "_view_module_version": "1.2.0",
      "_view_name": "LayoutView",
      "align_content": null,
      "align_items": null,
      "align_self": null,
      "border": null,
      "bottom": null,
      "display": null,
      "flex": null,
      "flex_flow": null,
      "grid_area": null,
      "grid_auto_columns": null,
      "grid_auto_flow": null,
      "grid_auto_rows": null,
      "grid_column": null,
      "grid_gap": null,
      "grid_row": null,
      "grid_template_areas": null,
      "grid_template_columns": null,
      "grid_template_rows": null,
      "height": null,
      "justify_content": null,
      "justify_items": null,
      "left": null,
      "margin": null,
      "max_height": null,
      "max_width": null,
      "min_height": null,
      "min_width": null,
      "object_fit": null,
      "object_position": null,
      "order": null,
      "overflow": null,
      "overflow_x": null,
      "overflow_y": null,
      "padding": null,
      "right": null,
      "top": null,
      "visibility": null,
      "width": null
     }
    },
    "4f3c1357f9924546bb9d530efcbb42b5": {
     "model_module": "@jupyter-widgets/controls",
     "model_name": "DescriptionStyleModel",
     "state": {
      "_model_module": "@jupyter-widgets/controls",
      "_model_module_version": "1.5.0",
      "_model_name": "DescriptionStyleModel",
      "_view_count": null,
      "_view_module": "@jupyter-widgets/base",
      "_view_module_version": "1.2.0",
      "_view_name": "StyleView",
      "description_width": ""
     }
    },
    "5614e3b2656247258545d75782c53c5a": {
     "model_module": "@jupyter-widgets/controls",
     "model_name": "ProgressStyleModel",
     "state": {
      "_model_module": "@jupyter-widgets/controls",
      "_model_module_version": "1.5.0",
      "_model_name": "ProgressStyleModel",
      "_view_count": null,
      "_view_module": "@jupyter-widgets/base",
      "_view_module_version": "1.2.0",
      "_view_name": "StyleView",
      "bar_color": null,
      "description_width": "initial"
     }
    },
    "6082e0322a8744f6926a013d5e43aa0a": {
     "model_module": "@jupyter-widgets/base",
     "model_name": "LayoutModel",
     "state": {
      "_model_module": "@jupyter-widgets/base",
      "_model_module_version": "1.2.0",
      "_model_name": "LayoutModel",
      "_view_count": null,
      "_view_module": "@jupyter-widgets/base",
      "_view_module_version": "1.2.0",
      "_view_name": "LayoutView",
      "align_content": null,
      "align_items": null,
      "align_self": null,
      "border": null,
      "bottom": null,
      "display": null,
      "flex": null,
      "flex_flow": null,
      "grid_area": null,
      "grid_auto_columns": null,
      "grid_auto_flow": null,
      "grid_auto_rows": null,
      "grid_column": null,
      "grid_gap": null,
      "grid_row": null,
      "grid_template_areas": null,
      "grid_template_columns": null,
      "grid_template_rows": null,
      "height": null,
      "justify_content": null,
      "justify_items": null,
      "left": null,
      "margin": null,
      "max_height": null,
      "max_width": null,
      "min_height": null,
      "min_width": null,
      "object_fit": null,
      "object_position": null,
      "order": null,
      "overflow": null,
      "overflow_x": null,
      "overflow_y": null,
      "padding": null,
      "right": null,
      "top": null,
      "visibility": null,
      "width": null
     }
    },
    "6f57d0f7fad447b584b73e3395395f2c": {
     "model_module": "@jupyter-widgets/base",
     "model_name": "LayoutModel",
     "state": {
      "_model_module": "@jupyter-widgets/base",
      "_model_module_version": "1.2.0",
      "_model_name": "LayoutModel",
      "_view_count": null,
      "_view_module": "@jupyter-widgets/base",
      "_view_module_version": "1.2.0",
      "_view_name": "LayoutView",
      "align_content": null,
      "align_items": null,
      "align_self": null,
      "border": null,
      "bottom": null,
      "display": null,
      "flex": null,
      "flex_flow": null,
      "grid_area": null,
      "grid_auto_columns": null,
      "grid_auto_flow": null,
      "grid_auto_rows": null,
      "grid_column": null,
      "grid_gap": null,
      "grid_row": null,
      "grid_template_areas": null,
      "grid_template_columns": null,
      "grid_template_rows": null,
      "height": null,
      "justify_content": null,
      "justify_items": null,
      "left": null,
      "margin": null,
      "max_height": null,
      "max_width": null,
      "min_height": null,
      "min_width": null,
      "object_fit": null,
      "object_position": null,
      "order": null,
      "overflow": null,
      "overflow_x": null,
      "overflow_y": null,
      "padding": null,
      "right": null,
      "top": null,
      "visibility": null,
      "width": null
     }
    },
    "7071ce867fd342a692efb4048eda36f9": {
     "model_module": "@jupyter-widgets/controls",
     "model_name": "HTMLModel",
     "state": {
      "_dom_classes": [],
      "_model_module": "@jupyter-widgets/controls",
      "_model_module_version": "1.5.0",
      "_model_name": "HTMLModel",
      "_view_count": null,
      "_view_module": "@jupyter-widgets/controls",
      "_view_module_version": "1.5.0",
      "_view_name": "HTMLView",
      "description": "",
      "description_tooltip": null,
      "layout": "IPY_MODEL_313b935e884e4ea3a9804d5485efa2ff",
      "placeholder": "​",
      "style": "IPY_MODEL_25dd6457d58d4dd9be72eb69413837a9",
      "value": " 116/? [00:00&lt;00:00, 1863.21it/s]"
     }
    },
    "7b82890a25b54d8ab1fbe4608371bc54": {
     "model_module": "@jupyter-widgets/controls",
     "model_name": "FloatProgressModel",
     "state": {
      "_dom_classes": [],
      "_model_module": "@jupyter-widgets/controls",
      "_model_module_version": "1.5.0",
      "_model_name": "FloatProgressModel",
      "_view_count": null,
      "_view_module": "@jupyter-widgets/controls",
      "_view_module_version": "1.5.0",
      "_view_name": "ProgressView",
      "bar_style": "success",
      "description": "Reading manifest data: ",
      "description_tooltip": null,
      "layout": "IPY_MODEL_acadda2815cd4279ba04fb02f442e416",
      "max": 1,
      "min": 0,
      "orientation": "horizontal",
      "style": "IPY_MODEL_96756aa2be61452b8c124dad0cb3b8c2",
      "value": 1
     }
    },
    "7cd7d979f8ea456fb5e4987c281a1f0e": {
     "model_module": "@jupyter-widgets/controls",
     "model_name": "HBoxModel",
     "state": {
      "_dom_classes": [],
      "_model_module": "@jupyter-widgets/controls",
      "_model_module_version": "1.5.0",
      "_model_name": "HBoxModel",
      "_view_count": null,
      "_view_module": "@jupyter-widgets/controls",
      "_view_module_version": "1.5.0",
      "_view_name": "HBoxView",
      "box_style": "",
      "children": [
       "IPY_MODEL_7b82890a25b54d8ab1fbe4608371bc54",
       "IPY_MODEL_7071ce867fd342a692efb4048eda36f9"
      ],
      "layout": "IPY_MODEL_6f57d0f7fad447b584b73e3395395f2c"
     }
    },
    "89d776c2769748a1bbfe86aa03fec573": {
     "model_module": "@jupyter-widgets/controls",
     "model_name": "HTMLModel",
     "state": {
      "_dom_classes": [],
      "_model_module": "@jupyter-widgets/controls",
      "_model_module_version": "1.5.0",
      "_model_name": "HTMLModel",
      "_view_count": null,
      "_view_module": "@jupyter-widgets/controls",
      "_view_module_version": "1.5.0",
      "_view_name": "HTMLView",
      "description": "",
      "description_tooltip": null,
      "layout": "IPY_MODEL_0589e2ee759f44aba84bd6c587d35348",
      "placeholder": "​",
      "style": "IPY_MODEL_c4b591977ee14893b712bb0b97de7d16",
      "value": " 0/4 [00:00&lt;?, ?it/s]"
     }
    },
    "948cafce8c544f8ca50623adb9a16148": {
     "model_module": "@jupyter-widgets/controls",
     "model_name": "HBoxModel",
     "state": {
      "_dom_classes": [],
      "_model_module": "@jupyter-widgets/controls",
      "_model_module_version": "1.5.0",
      "_model_name": "HBoxModel",
      "_view_count": null,
      "_view_module": "@jupyter-widgets/controls",
      "_view_module_version": "1.5.0",
      "_view_name": "HBoxView",
      "box_style": "",
      "children": [
       "IPY_MODEL_c5a96154c961442a8c08c5525e9032be",
       "IPY_MODEL_a09d94b932244dfa8a0c24e03e6b700f"
      ],
      "layout": "IPY_MODEL_c999276336f440099fc8c9d8d3a9136e"
     }
    },
    "96756aa2be61452b8c124dad0cb3b8c2": {
     "model_module": "@jupyter-widgets/controls",
     "model_name": "ProgressStyleModel",
     "state": {
      "_model_module": "@jupyter-widgets/controls",
      "_model_module_version": "1.5.0",
      "_model_name": "ProgressStyleModel",
      "_view_count": null,
      "_view_module": "@jupyter-widgets/base",
      "_view_module_version": "1.2.0",
      "_view_name": "StyleView",
      "bar_color": null,
      "description_width": "initial"
     }
    },
    "9ab5a68d97b744f481381fbcd76e553c": {
     "model_module": "@jupyter-widgets/controls",
     "model_name": "FloatProgressModel",
     "state": {
      "_dom_classes": [],
      "_model_module": "@jupyter-widgets/controls",
      "_model_module_version": "1.5.0",
      "_model_name": "FloatProgressModel",
      "_view_count": null,
      "_view_module": "@jupyter-widgets/controls",
      "_view_module_version": "1.5.0",
      "_view_name": "ProgressView",
      "bar_style": "success",
      "description": "Computing character set: 100%",
      "description_tooltip": null,
      "layout": "IPY_MODEL_6082e0322a8744f6926a013d5e43aa0a",
      "max": 116,
      "min": 0,
      "orientation": "horizontal",
      "style": "IPY_MODEL_5614e3b2656247258545d75782c53c5a",
      "value": 116
     }
    },
    "9f08978d13a64d7ca1c00b498c8d4760": {
     "model_module": "@jupyter-widgets/controls",
     "model_name": "HTMLModel",
     "state": {
      "_dom_classes": [],
      "_model_module": "@jupyter-widgets/controls",
      "_model_module_version": "1.5.0",
      "_model_name": "HTMLModel",
      "_view_count": null,
      "_view_module": "@jupyter-widgets/controls",
      "_view_module_version": "1.5.0",
      "_view_name": "HTMLView",
      "description": "",
      "description_tooltip": null,
      "layout": "IPY_MODEL_1392be0a152c4634b93b3f92b8e7b923",
      "placeholder": "​",
      "style": "IPY_MODEL_4f3c1357f9924546bb9d530efcbb42b5",
      "value": " 0/? [00:00&lt;?, ?it/s]"
     }
    },
    "a09d94b932244dfa8a0c24e03e6b700f": {
     "model_module": "@jupyter-widgets/controls",
     "model_name": "HTMLModel",
     "state": {
      "_dom_classes": [],
      "_model_module": "@jupyter-widgets/controls",
      "_model_module_version": "1.5.0",
      "_model_name": "HTMLModel",
      "_view_count": null,
      "_view_module": "@jupyter-widgets/controls",
      "_view_module_version": "1.5.0",
      "_view_name": "HTMLView",
      "description": "",
      "description_tooltip": null,
      "layout": "IPY_MODEL_de9896f900c2471191faa762bb2e9dd8",
      "placeholder": "​",
      "style": "IPY_MODEL_b52e1b05e9da40b98821d5ba17b2fb2d",
      "value": " 116/116 [00:59&lt;00:00,  1.95it/s]"
     }
    },
    "a45a9460cc8a4dd7bd04891de6146362": {
     "model_module": "@jupyter-widgets/controls",
     "model_name": "ProgressStyleModel",
     "state": {
      "_model_module": "@jupyter-widgets/controls",
      "_model_module_version": "1.5.0",
      "_model_name": "ProgressStyleModel",
      "_view_count": null,
      "_view_module": "@jupyter-widgets/base",
      "_view_module_version": "1.2.0",
      "_view_name": "StyleView",
      "bar_color": null,
      "description_width": "initial"
     }
    },
    "acadda2815cd4279ba04fb02f442e416": {
     "model_module": "@jupyter-widgets/base",
     "model_name": "LayoutModel",
     "state": {
      "_model_module": "@jupyter-widgets/base",
      "_model_module_version": "1.2.0",
      "_model_name": "LayoutModel",
      "_view_count": null,
      "_view_module": "@jupyter-widgets/base",
      "_view_module_version": "1.2.0",
      "_view_name": "LayoutView",
      "align_content": null,
      "align_items": null,
      "align_self": null,
      "border": null,
      "bottom": null,
      "display": null,
      "flex": null,
      "flex_flow": null,
      "grid_area": null,
      "grid_auto_columns": null,
      "grid_auto_flow": null,
      "grid_auto_rows": null,
      "grid_column": null,
      "grid_gap": null,
      "grid_row": null,
      "grid_template_areas": null,
      "grid_template_columns": null,
      "grid_template_rows": null,
      "height": null,
      "justify_content": null,
      "justify_items": null,
      "left": null,
      "margin": null,
      "max_height": null,
      "max_width": null,
      "min_height": null,
      "min_width": null,
      "object_fit": null,
      "object_position": null,
      "order": null,
      "overflow": null,
      "overflow_x": null,
      "overflow_y": null,
      "padding": null,
      "right": null,
      "top": null,
      "visibility": null,
      "width": null
     }
    },
    "b4c289b354974238861d742f05eb3971": {
     "model_module": "@jupyter-widgets/controls",
     "model_name": "ProgressStyleModel",
     "state": {
      "_model_module": "@jupyter-widgets/controls",
      "_model_module_version": "1.5.0",
      "_model_name": "ProgressStyleModel",
      "_view_count": null,
      "_view_module": "@jupyter-widgets/base",
      "_view_module_version": "1.2.0",
      "_view_name": "StyleView",
      "bar_color": null,
      "description_width": "initial"
     }
    },
    "b52e1b05e9da40b98821d5ba17b2fb2d": {
     "model_module": "@jupyter-widgets/controls",
     "model_name": "DescriptionStyleModel",
     "state": {
      "_model_module": "@jupyter-widgets/controls",
      "_model_module_version": "1.5.0",
      "_model_name": "DescriptionStyleModel",
      "_view_count": null,
      "_view_module": "@jupyter-widgets/base",
      "_view_module_version": "1.2.0",
      "_view_name": "StyleView",
      "description_width": ""
     }
    },
    "c4b591977ee14893b712bb0b97de7d16": {
     "model_module": "@jupyter-widgets/controls",
     "model_name": "DescriptionStyleModel",
     "state": {
      "_model_module": "@jupyter-widgets/controls",
      "_model_module_version": "1.5.0",
      "_model_name": "DescriptionStyleModel",
      "_view_count": null,
      "_view_module": "@jupyter-widgets/base",
      "_view_module_version": "1.2.0",
      "_view_name": "StyleView",
      "description_width": ""
     }
    },
    "c5a96154c961442a8c08c5525e9032be": {
     "model_module": "@jupyter-widgets/controls",
     "model_name": "FloatProgressModel",
     "state": {
      "_dom_classes": [],
      "_model_module": "@jupyter-widgets/controls",
      "_model_module_version": "1.5.0",
      "_model_name": "FloatProgressModel",
      "_view_count": null,
      "_view_module": "@jupyter-widgets/controls",
      "_view_module_version": "1.5.0",
      "_view_name": "ProgressView",
      "bar_style": "success",
      "description": "Computing character set: 100%",
      "description_tooltip": null,
      "layout": "IPY_MODEL_4ccd69f93caf4896ba6342ccb8a94d28",
      "max": 116,
      "min": 0,
      "orientation": "horizontal",
      "style": "IPY_MODEL_b4c289b354974238861d742f05eb3971",
      "value": 116
     }
    },
    "c999276336f440099fc8c9d8d3a9136e": {
     "model_module": "@jupyter-widgets/base",
     "model_name": "LayoutModel",
     "state": {
      "_model_module": "@jupyter-widgets/base",
      "_model_module_version": "1.2.0",
      "_model_name": "LayoutModel",
      "_view_count": null,
      "_view_module": "@jupyter-widgets/base",
      "_view_module_version": "1.2.0",
      "_view_name": "LayoutView",
      "align_content": null,
      "align_items": null,
      "align_self": null,
      "border": null,
      "bottom": null,
      "display": null,
      "flex": null,
      "flex_flow": null,
      "grid_area": null,
      "grid_auto_columns": null,
      "grid_auto_flow": null,
      "grid_auto_rows": null,
      "grid_column": null,
      "grid_gap": null,
      "grid_row": null,
      "grid_template_areas": null,
      "grid_template_columns": null,
      "grid_template_rows": null,
      "height": null,
      "justify_content": null,
      "justify_items": null,
      "left": null,
      "margin": null,
      "max_height": null,
      "max_width": null,
      "min_height": null,
      "min_width": null,
      "object_fit": null,
      "object_position": null,
      "order": null,
      "overflow": null,
      "overflow_x": null,
      "overflow_y": null,
      "padding": null,
      "right": null,
      "top": null,
      "visibility": null,
      "width": null
     }
    },
    "cbc8e2ef50e24734afc321010b475345": {
     "model_module": "@jupyter-widgets/controls",
     "model_name": "ProgressStyleModel",
     "state": {
      "_model_module": "@jupyter-widgets/controls",
      "_model_module_version": "1.5.0",
      "_model_name": "ProgressStyleModel",
      "_view_count": null,
      "_view_module": "@jupyter-widgets/base",
      "_view_module_version": "1.2.0",
      "_view_name": "StyleView",
      "bar_color": null,
      "description_width": "initial"
     }
    },
    "d4318d1efd8643db8d958f223821ae44": {
     "model_module": "@jupyter-widgets/controls",
     "model_name": "HBoxModel",
     "state": {
      "_dom_classes": [],
      "_model_module": "@jupyter-widgets/controls",
      "_model_module_version": "1.5.0",
      "_model_name": "HBoxModel",
      "_view_count": null,
      "_view_module": "@jupyter-widgets/controls",
      "_view_module_version": "1.5.0",
      "_view_name": "HBoxView",
      "box_style": "",
      "children": [
       "IPY_MODEL_9ab5a68d97b744f481381fbcd76e553c",
       "IPY_MODEL_fc463339f97a4e6682fee47d051a904b"
      ],
      "layout": "IPY_MODEL_3adc8ae400dc48d58120b4eb90e0ff1f"
     }
    },
    "d4b44dc6c73b4efd9110a65e5ee2331d": {
     "model_module": "@jupyter-widgets/base",
     "model_name": "LayoutModel",
     "state": {
      "_model_module": "@jupyter-widgets/base",
      "_model_module_version": "1.2.0",
      "_model_name": "LayoutModel",
      "_view_count": null,
      "_view_module": "@jupyter-widgets/base",
      "_view_module_version": "1.2.0",
      "_view_name": "LayoutView",
      "align_content": null,
      "align_items": null,
      "align_self": null,
      "border": null,
      "bottom": null,
      "display": "inline-flex",
      "flex": null,
      "flex_flow": "row wrap",
      "grid_area": null,
      "grid_auto_columns": null,
      "grid_auto_flow": null,
      "grid_auto_rows": null,
      "grid_column": null,
      "grid_gap": null,
      "grid_row": null,
      "grid_template_areas": null,
      "grid_template_columns": null,
      "grid_template_rows": null,
      "height": null,
      "justify_content": null,
      "justify_items": null,
      "left": null,
      "margin": null,
      "max_height": null,
      "max_width": null,
      "min_height": null,
      "min_width": null,
      "object_fit": null,
      "object_position": null,
      "order": null,
      "overflow": null,
      "overflow_x": null,
      "overflow_y": null,
      "padding": null,
      "right": null,
      "top": null,
      "visibility": null,
      "width": "100%"
     }
    },
    "d5fb3239cdc847d58c0528db63415f8e": {
     "model_module": "@jupyter-widgets/base",
     "model_name": "LayoutModel",
     "state": {
      "_model_module": "@jupyter-widgets/base",
      "_model_module_version": "1.2.0",
      "_model_name": "LayoutModel",
      "_view_count": null,
      "_view_module": "@jupyter-widgets/base",
      "_view_module_version": "1.2.0",
      "_view_name": "LayoutView",
      "align_content": null,
      "align_items": null,
      "align_self": null,
      "border": null,
      "bottom": null,
      "display": null,
      "flex": "2",
      "flex_flow": null,
      "grid_area": null,
      "grid_auto_columns": null,
      "grid_auto_flow": null,
      "grid_auto_rows": null,
      "grid_column": null,
      "grid_gap": null,
      "grid_row": null,
      "grid_template_areas": null,
      "grid_template_columns": null,
      "grid_template_rows": null,
      "height": null,
      "justify_content": null,
      "justify_items": null,
      "left": null,
      "margin": null,
      "max_height": null,
      "max_width": null,
      "min_height": null,
      "min_width": null,
      "object_fit": null,
      "object_position": null,
      "order": null,
      "overflow": null,
      "overflow_x": null,
      "overflow_y": null,
      "padding": null,
      "right": null,
      "top": null,
      "visibility": null,
      "width": null
     }
    },
    "de26602b33e34c51aff9506b03207295": {
     "model_module": "@jupyter-widgets/controls",
     "model_name": "HBoxModel",
     "state": {
      "_dom_classes": [],
      "_model_module": "@jupyter-widgets/controls",
      "_model_module_version": "1.5.0",
      "_model_name": "HBoxModel",
      "_view_count": null,
      "_view_module": "@jupyter-widgets/controls",
      "_view_module_version": "1.5.0",
      "_view_name": "HBoxView",
      "box_style": "",
      "children": [
       "IPY_MODEL_1c1a4292650e47bbbb0a29d37fb327c8",
       "IPY_MODEL_89d776c2769748a1bbfe86aa03fec573"
      ],
      "layout": "IPY_MODEL_d4b44dc6c73b4efd9110a65e5ee2331d"
     }
    },
    "de9896f900c2471191faa762bb2e9dd8": {
     "model_module": "@jupyter-widgets/base",
     "model_name": "LayoutModel",
     "state": {
      "_model_module": "@jupyter-widgets/base",
      "_model_module_version": "1.2.0",
      "_model_name": "LayoutModel",
      "_view_count": null,
      "_view_module": "@jupyter-widgets/base",
      "_view_module_version": "1.2.0",
      "_view_name": "LayoutView",
      "align_content": null,
      "align_items": null,
      "align_self": null,
      "border": null,
      "bottom": null,
      "display": null,
      "flex": null,
      "flex_flow": null,
      "grid_area": null,
      "grid_auto_columns": null,
      "grid_auto_flow": null,
      "grid_auto_rows": null,
      "grid_column": null,
      "grid_gap": null,
      "grid_row": null,
      "grid_template_areas": null,
      "grid_template_columns": null,
      "grid_template_rows": null,
      "height": null,
      "justify_content": null,
      "justify_items": null,
      "left": null,
      "margin": null,
      "max_height": null,
      "max_width": null,
      "min_height": null,
      "min_width": null,
      "object_fit": null,
      "object_position": null,
      "order": null,
      "overflow": null,
      "overflow_x": null,
      "overflow_y": null,
      "padding": null,
      "right": null,
      "top": null,
      "visibility": null,
      "width": null
     }
    },
    "df42000f46eb4144aebbd70730cd98cb": {
     "model_module": "@jupyter-widgets/base",
     "model_name": "LayoutModel",
     "state": {
      "_model_module": "@jupyter-widgets/base",
      "_model_module_version": "1.2.0",
      "_model_name": "LayoutModel",
      "_view_count": null,
      "_view_module": "@jupyter-widgets/base",
      "_view_module_version": "1.2.0",
      "_view_name": "LayoutView",
      "align_content": null,
      "align_items": null,
      "align_self": null,
      "border": null,
      "bottom": null,
      "display": null,
      "flex": "2",
      "flex_flow": null,
      "grid_area": null,
      "grid_auto_columns": null,
      "grid_auto_flow": null,
      "grid_auto_rows": null,
      "grid_column": null,
      "grid_gap": null,
      "grid_row": null,
      "grid_template_areas": null,
      "grid_template_columns": null,
      "grid_template_rows": null,
      "height": null,
      "justify_content": null,
      "justify_items": null,
      "left": null,
      "margin": null,
      "max_height": null,
      "max_width": null,
      "min_height": null,
      "min_width": null,
      "object_fit": null,
      "object_position": null,
      "order": null,
      "overflow": null,
      "overflow_x": null,
      "overflow_y": null,
      "padding": null,
      "right": null,
      "top": null,
      "visibility": null,
      "width": null
     }
    },
    "ea18826df83848c6b7dde7ce76bc7644": {
     "model_module": "@jupyter-widgets/controls",
     "model_name": "FloatProgressModel",
     "state": {
      "_dom_classes": [],
      "_model_module": "@jupyter-widgets/controls",
      "_model_module_version": "1.5.0",
      "_model_name": "FloatProgressModel",
      "_view_count": null,
      "_view_module": "@jupyter-widgets/controls",
      "_view_module_version": "1.5.0",
      "_view_name": "ProgressView",
      "bar_style": "info",
      "description": "Validation sanity check: ",
      "description_tooltip": null,
      "layout": "IPY_MODEL_df42000f46eb4144aebbd70730cd98cb",
      "max": 1,
      "min": 0,
      "orientation": "horizontal",
      "style": "IPY_MODEL_cbc8e2ef50e24734afc321010b475345",
      "value": 0
     }
    },
    "fc463339f97a4e6682fee47d051a904b": {
     "model_module": "@jupyter-widgets/controls",
     "model_name": "HTMLModel",
     "state": {
      "_dom_classes": [],
      "_model_module": "@jupyter-widgets/controls",
      "_model_module_version": "1.5.0",
      "_model_name": "HTMLModel",
      "_view_count": null,
      "_view_module": "@jupyter-widgets/controls",
      "_view_module_version": "1.5.0",
      "_view_name": "HTMLView",
      "description": "",
      "description_tooltip": null,
      "layout": "IPY_MODEL_326e8d1ea5f84d3b9e12f15c2a422bab",
      "placeholder": "​",
      "style": "IPY_MODEL_3bfcfddd4a7a4625891f85792de75f34",
      "value": " 116/116 [02:16&lt;00:00,  1.18s/it]"
     }
    }
   }
  }
 },
 "nbformat": 4,
 "nbformat_minor": 4
}
